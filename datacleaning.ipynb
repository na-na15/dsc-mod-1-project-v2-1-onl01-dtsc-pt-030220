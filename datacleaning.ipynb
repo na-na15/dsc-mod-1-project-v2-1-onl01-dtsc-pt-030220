{
 "cells": [
  {
   "cell_type": "markdown",
   "metadata": {},
   "source": [
    "# Final Project Submission\n",
    "## Please fill out:\n",
    "\n",
    "* Student name: Nastaran Nazemian\n",
    "* Student pace: part time\n",
    "* Scheduled project review date/time: 28/4/2020 1:30PM (PS)\n",
    "* Instructor name: Eli Thomas\n",
    "* Blog post URL:?????????????"
   ]
  },
  {
   "cell_type": "markdown",
   "metadata": {},
   "source": [
    "# Overview\n",
    "After data mining, the next step is to clean collected data. For this, I wrote new functions and used existing ones to change the columns’ datatype, find the outliers and the missing data. Finally, based on the this, I found and implemented the correct method for estimating missing data and eliminating the outliers. I save the final data frame to a JSON file to use in the next step."
   ]
  },
  {
   "cell_type": "code",
   "execution_count": 1,
   "metadata": {},
   "outputs": [],
   "source": [
    "import re\n",
    "import numpy as np\n",
    "import pandas as pd\n",
    "import math\n",
    "import json\n",
    "from scipy import stats\n",
    "import collections\n",
    "import seaborn as sns\n",
    "import matplotlib.pyplot as plt\n",
    "%matplotlib inline"
   ]
  },
  {
   "cell_type": "code",
   "execution_count": 2,
   "metadata": {},
   "outputs": [],
   "source": [
    "#loading the Dataset\n",
    "def load_data():\n",
    "    data = pd.read_json (r'C:\\Flatiron\\course-material\\ModuleOneFinalProject\\dsc-mod-1-project-v2-1-onl01-dtsc-pt-030220\\data_0423_0749PM_30pages_2010_2020.json')\n",
    "    return pd.DataFrame(data)"
   ]
  },
  {
   "cell_type": "code",
   "execution_count": 3,
   "metadata": {},
   "outputs": [],
   "source": [
    "#Creat a List of the Columns Should Conver to the Float.\n",
    "int_columns = ['Budget','Gross USA', 'Cumulative Worldwide Gross', 'Popularity',\n",
    "                'Opening Weekend USA', 'Rating_count',\n",
    "                'Meta_Score', 'User_Review_Number', 'Critical_Review_Number']\n",
    "#Convert a Column to Float\n",
    "def to_numeric(df):\n",
    "    df[int_columns] = df[int_columns].apply(pd.to_numeric, errors='coerce')\n",
    "    return df\n",
    "#df = to_numeric(df)\n",
    "#df.info()"
   ]
  },
  {
   "cell_type": "markdown",
   "metadata": {},
   "source": [
    "Since I scraped my data, I need to change my columns’ format. To solve this problem, I had to open the data. One of the problems I encountered was having multiple genres for some of the movies. To solve this problem, I had to flatten my dataset. For example, for a film that has three genres, the dataset must have three rows. Function `flatten_genre(df)` creates a flattened dataset. "
   ]
  },
  {
   "cell_type": "code",
   "execution_count": 4,
   "metadata": {},
   "outputs": [],
   "source": [
    "def flatten_genre(df):\n",
    " \n",
    "    flatten_df = df['Genre'].apply(pd.Series) \\\n",
    "        .merge(df, right_index = True, left_index = True) \\\n",
    "        .drop(['Genre'], axis = 1) \\\n",
    "        .melt(id_vars = df.columns.drop('Genre'), value_name = \"Genre\") \\\n",
    "        .drop(\"variable\", axis = 1) \\\n",
    "        .dropna(subset=['Genre'])\n",
    "    \n",
    "    return flatten_df\n"
   ]
  },
  {
   "cell_type": "code",
   "execution_count": 5,
   "metadata": {},
   "outputs": [],
   "source": [
    "def get_all_genres_count(flatten_df):\n",
    "    return flatten_df.groupby('Genre')['Genre'].count()"
   ]
  },
  {
   "cell_type": "code",
   "execution_count": 6,
   "metadata": {},
   "outputs": [],
   "source": [
    "def budget_hist(df, col_name):\n",
    "    non_miss_Budegets = df[col_name].loc[df[col_name] > 0]\n",
    "    non_miss_Budegets.isna().sum()\n",
    "    display(non_miss_Budegets.apply(['mean', 'median', 'std']))\n",
    "    non_miss_Budegets.hist()\n",
    "#budget_hist(df, 'Budget')"
   ]
  },
  {
   "cell_type": "markdown",
   "metadata": {},
   "source": [
    "Since the movie budget depends on the genre, I decided to use weighted mean for estimating the missing data. For genre weight, I used the frequency of each genre over the number of all genres which exists in my flatten data set."
   ]
  },
  {
   "cell_type": "code",
   "execution_count": 7,
   "metadata": {
    "scrolled": true
   },
   "outputs": [],
   "source": [
    "def get_genres_weight(all_genres_count, flatten_df):\n",
    "    return all_genres_count / len(flatten_df)"
   ]
  },
  {
   "cell_type": "markdown",
   "metadata": {},
   "source": [
    "Before estimating the missing data, the outliers should be taken out, because they would directly effect the weighted mean. Here are two ways for taking out outliers. "
   ]
  },
  {
   "cell_type": "code",
   "execution_count": 8,
   "metadata": {},
   "outputs": [],
   "source": [
    "# def remove_outlier(df, col_name):\n",
    "#     q1 = df[col_name].quantile(0.25)\n",
    "#     q3 = df[col_name].quantile(0.75)\n",
    "#     iqr = q3-q1 #Interquartile range\n",
    "#     fence_low  = q1-1.5*iqr\n",
    "#     fence_high = q3+1.5*iqr\n",
    "#     df_out = df.loc[(df[col_name] > fence_low) & (df[col_name] < fence_high)]\n",
    "#     return df_out\n",
    "def remove_outlier(df, col_name):    \n",
    "# df[(np.abs(stats.zscore(df)) < 3).any(axis=1)]\n",
    "    df_out = df[(np.abs(stats.zscore(df[col_name], nan_policy='omit')) < 3)]\n",
    "    return df_out\n"
   ]
  },
  {
   "cell_type": "code",
   "execution_count": 9,
   "metadata": {},
   "outputs": [],
   "source": [
    "#Get Mean and Median a Column After Removing the Outliers\n",
    "def get_per_column_stat(flatten_df, column, group_by_column):\n",
    "    no_outlier_df = remove_outlier(flatten_df, column)\n",
    "    return no_outlier_df.groupby(group_by_column).agg({column: ['mean', 'median']})\n"
   ]
  },
  {
   "cell_type": "code",
   "execution_count": 10,
   "metadata": {
    "scrolled": true
   },
   "outputs": [],
   "source": [
    "#Estimate missing values based on the Weighted Mean\n",
    "def estimate_missing_column(df, per_column_stat, genres_weight, column_name):\n",
    "    for index, genres in enumerate(df['Genre']):\n",
    "        if math.isnan(df[column_name][index]) :\n",
    "            weight_sum = 0\n",
    "            weighted_mean = 0\n",
    "            for movie_genre in genres:\n",
    "                if (movie_genre in per_column_stat[column_name]['mean']):\n",
    "                    weight_sum += genres_weight[movie_genre]\n",
    "                    weighted_mean += \\\n",
    "                            per_column_stat[column_name]['mean'][movie_genre] * \\\n",
    "                            genres_weight[movie_genre]\n",
    "            df.iloc[index, df.columns.get_loc(column_name)] = weighted_mean / weight_sum\n",
    "    return df\n",
    "\n"
   ]
  },
  {
   "cell_type": "code",
   "execution_count": 11,
   "metadata": {},
   "outputs": [
    {
     "name": "stderr",
     "output_type": "stream",
     "text": [
      "C:\\Users\\Nastaran\\Anaconda3\\envs\\learn-env\\lib\\site-packages\\ipykernel_launcher.py:11: RuntimeWarning: invalid value encountered in less\n",
      "  # This is added back by InteractiveShellApp.init_path()\n"
     ]
    },
    {
     "data": {
      "text/plain": [
       "Title_id                        0\n",
       "Budget                          0\n",
       "Gross USA                     241\n",
       "Cumulative Worldwide Gross    137\n",
       "Opening Weekend USA           254\n",
       "Title                           7\n",
       "Year                            0\n",
       "Popularity                      0\n",
       "Genre                           0\n",
       "Runtime_min                     0\n",
       "Release_day                     5\n",
       "IMDB_Rate                       1\n",
       "Rating_count                    1\n",
       "Meta_Score                    895\n",
       "Director                        0\n",
       "Writer                          0\n",
       "Star                            0\n",
       "User_Review_Number              0\n",
       "Critical_Review_Number          0\n",
       "Meta_Rating                     0\n",
       "dtype: int64"
      ]
     },
     "execution_count": 11,
     "metadata": {},
     "output_type": "execute_result"
    }
   ],
   "source": [
    "\n",
    "def get_ready_to_analyze_data():\n",
    "    df = load_data()\n",
    "    df = to_numeric(df)\n",
    "    flatten_df = flatten_genre(df)\n",
    "    all_genres_count = get_all_genres_count(flatten_df)\n",
    "    genres_weight = get_genres_weight(all_genres_count, flatten_df)\n",
    "    for column in ['Budget','Runtime_min', 'User_Review_Number','Critical_Review_Number']:\n",
    "        per_column_stat = get_per_column_stat(flatten_df, column, 'Genre')\n",
    "        df = estimate_missing_column(df, per_column_stat, genres_weight, column)\n",
    "    return df\n",
    "\n",
    "ready_to_analyze_data = get_ready_to_analyze_data()\n",
    "ready_to_analyze_data.isna().sum()\n",
    "\n"
   ]
  },
  {
   "cell_type": "code",
   "execution_count": 57,
   "metadata": {},
   "outputs": [
    {
     "data": {
      "text/plain": [
       "Title_id                        0\n",
       "Budget                          0\n",
       "Gross USA                       0\n",
       "Cumulative Worldwide Gross      0\n",
       "Opening Weekend USA            13\n",
       "Title                           0\n",
       "Year                            0\n",
       "Popularity                      0\n",
       "Genre                           0\n",
       "Runtime_min                     0\n",
       "Release_day                     0\n",
       "IMDB_Rate                       0\n",
       "Rating_count                    0\n",
       "Meta_Score                    737\n",
       "Director                        0\n",
       "Writer                          0\n",
       "Star                            0\n",
       "User_Review_Number              0\n",
       "Critical_Review_Number          0\n",
       "Meta_Rating                     0\n",
       "dtype: int64"
      ]
     },
     "execution_count": 57,
     "metadata": {},
     "output_type": "execute_result"
    }
   ],
   "source": [
    "New_df = ready_to_analyze_data.dropna(subset=['Title', 'Release_day','IMDB_Rate', 'Rating_count','Gross USA', 'Cumulative Worldwide Gross'])\n",
    "New_df.isna().sum()\n"
   ]
  },
  {
   "cell_type": "code",
   "execution_count": 13,
   "metadata": {},
   "outputs": [
    {
     "name": "stderr",
     "output_type": "stream",
     "text": [
      "C:\\Users\\Nastaran\\Anaconda3\\envs\\learn-env\\lib\\site-packages\\pandas\\core\\frame.py:4102: SettingWithCopyWarning: \n",
      "A value is trying to be set on a copy of a slice from a DataFrame\n",
      "\n",
      "See the caveats in the documentation: http://pandas.pydata.org/pandas-docs/stable/user_guide/indexing.html#returning-a-view-versus-a-copy\n",
      "  errors=errors,\n"
     ]
    }
   ],
   "source": [
    "New_df.drop(['Meta_Score'], axis = 1, inplace=True)\n",
    "New_df = remove_outlier(New_df, 'Budget')"
   ]
  },
  {
   "cell_type": "code",
   "execution_count": 14,
   "metadata": {},
   "outputs": [
    {
     "data": {
      "text/plain": [
       "(1234, 19)"
      ]
     },
     "execution_count": 14,
     "metadata": {},
     "output_type": "execute_result"
    }
   ],
   "source": [
    "New_df.isna().sum()\n",
    "New_df.shape"
   ]
  },
  {
   "cell_type": "code",
   "execution_count": 15,
   "metadata": {},
   "outputs": [
    {
     "data": {
      "text/html": [
       "<div>\n",
       "<style scoped>\n",
       "    .dataframe tbody tr th:only-of-type {\n",
       "        vertical-align: middle;\n",
       "    }\n",
       "\n",
       "    .dataframe tbody tr th {\n",
       "        vertical-align: top;\n",
       "    }\n",
       "\n",
       "    .dataframe thead th {\n",
       "        text-align: right;\n",
       "    }\n",
       "</style>\n",
       "<table border=\"1\" class=\"dataframe\">\n",
       "  <thead>\n",
       "    <tr style=\"text-align: right;\">\n",
       "      <th></th>\n",
       "      <th>Title_id</th>\n",
       "      <th>Budget</th>\n",
       "      <th>Gross USA</th>\n",
       "      <th>Cumulative Worldwide Gross</th>\n",
       "      <th>Opening Weekend USA</th>\n",
       "      <th>Title</th>\n",
       "      <th>Year</th>\n",
       "      <th>Popularity</th>\n",
       "      <th>Genre</th>\n",
       "      <th>Runtime_min</th>\n",
       "      <th>Release_day</th>\n",
       "      <th>IMDB_Rate</th>\n",
       "      <th>Rating_count</th>\n",
       "      <th>Director</th>\n",
       "      <th>Writer</th>\n",
       "      <th>Star</th>\n",
       "      <th>User_Review_Number</th>\n",
       "      <th>Critical_Review_Number</th>\n",
       "      <th>Meta_Rating</th>\n",
       "    </tr>\n",
       "  </thead>\n",
       "  <tbody>\n",
       "    <tr>\n",
       "      <td>0</td>\n",
       "      <td>tt8367814</td>\n",
       "      <td>22000000.0</td>\n",
       "      <td>36296853.0</td>\n",
       "      <td>114996853.0</td>\n",
       "      <td>10651884.0</td>\n",
       "      <td>The Gentlemen</td>\n",
       "      <td>2019</td>\n",
       "      <td>6</td>\n",
       "      <td>[Action, Comedy, Crime]</td>\n",
       "      <td>113.0</td>\n",
       "      <td>01/24/2020</td>\n",
       "      <td>8.0</td>\n",
       "      <td>111609.0</td>\n",
       "      <td>[Guy Ritchie]</td>\n",
       "      <td>[Guy Ritchie, Ivan Atkinson]</td>\n",
       "      <td>[Matthew McConaughey, Charlie Hunnam, Michelle...</td>\n",
       "      <td>867.0</td>\n",
       "      <td>231.0</td>\n",
       "      <td>R</td>\n",
       "    </tr>\n",
       "    <tr>\n",
       "      <td>1</td>\n",
       "      <td>tt7131622</td>\n",
       "      <td>90000000.0</td>\n",
       "      <td>142502728.0</td>\n",
       "      <td>374343626.0</td>\n",
       "      <td>41082018.0</td>\n",
       "      <td>Once Upon a Time... in Hollywood</td>\n",
       "      <td>2019</td>\n",
       "      <td>8</td>\n",
       "      <td>[Comedy, Drama]</td>\n",
       "      <td>161.0</td>\n",
       "      <td>07/26/2019</td>\n",
       "      <td>7.7</td>\n",
       "      <td>445375.0</td>\n",
       "      <td>[Quentin Tarantino]</td>\n",
       "      <td>[Quentin Tarantino]</td>\n",
       "      <td>[Leonardo DiCaprio, Brad Pitt, Margot Robbie]</td>\n",
       "      <td>4811.0</td>\n",
       "      <td>594.0</td>\n",
       "      <td>R</td>\n",
       "    </tr>\n",
       "    <tr>\n",
       "      <td>2</td>\n",
       "      <td>tt8946378</td>\n",
       "      <td>40000000.0</td>\n",
       "      <td>165363234.0</td>\n",
       "      <td>309232797.0</td>\n",
       "      <td>26769548.0</td>\n",
       "      <td>Knives Out</td>\n",
       "      <td>2019</td>\n",
       "      <td>10</td>\n",
       "      <td>[Comedy, Crime, Drama, Mystery, Thriller]</td>\n",
       "      <td>131.0</td>\n",
       "      <td>11/27/2019</td>\n",
       "      <td>7.9</td>\n",
       "      <td>279415.0</td>\n",
       "      <td>[Rian Johnson]</td>\n",
       "      <td>[Rian Johnson]</td>\n",
       "      <td>[Daniel Craig, Chris Evans, Ana de Armas]</td>\n",
       "      <td>1822.0</td>\n",
       "      <td>417.0</td>\n",
       "      <td>PG-13</td>\n",
       "    </tr>\n",
       "    <tr>\n",
       "      <td>3</td>\n",
       "      <td>tt8579674</td>\n",
       "      <td>95000000.0</td>\n",
       "      <td>159227644.0</td>\n",
       "      <td>368027644.0</td>\n",
       "      <td>576216.0</td>\n",
       "      <td>1917</td>\n",
       "      <td>2019</td>\n",
       "      <td>13</td>\n",
       "      <td>[Drama, War]</td>\n",
       "      <td>119.0</td>\n",
       "      <td>01/10/2020</td>\n",
       "      <td>8.3</td>\n",
       "      <td>285906.0</td>\n",
       "      <td>[Sam Mendes]</td>\n",
       "      <td>[Sam Mendes, Krysty Wilson-Cairns]</td>\n",
       "      <td>[Dean-Charles Chapman, George MacKay, Daniel M...</td>\n",
       "      <td>2465.0</td>\n",
       "      <td>447.0</td>\n",
       "      <td>R</td>\n",
       "    </tr>\n",
       "    <tr>\n",
       "      <td>4</td>\n",
       "      <td>tt1598778</td>\n",
       "      <td>60000000.0</td>\n",
       "      <td>75658097.0</td>\n",
       "      <td>136515867.0</td>\n",
       "      <td>22403596.0</td>\n",
       "      <td>Contagion</td>\n",
       "      <td>2011</td>\n",
       "      <td>15</td>\n",
       "      <td>[Action, Drama, Thriller]</td>\n",
       "      <td>106.0</td>\n",
       "      <td>09/09/2011</td>\n",
       "      <td>6.7</td>\n",
       "      <td>257205.0</td>\n",
       "      <td>[Steven Soderbergh]</td>\n",
       "      <td>[Scott Z. Burns]</td>\n",
       "      <td>[Matt Damon, Kate Winslet, Jude Law]</td>\n",
       "      <td>684.0</td>\n",
       "      <td>255.0</td>\n",
       "      <td>PG-13</td>\n",
       "    </tr>\n",
       "  </tbody>\n",
       "</table>\n",
       "</div>"
      ],
      "text/plain": [
       "    Title_id      Budget    Gross USA  Cumulative Worldwide Gross  \\\n",
       "0  tt8367814  22000000.0   36296853.0                 114996853.0   \n",
       "1  tt7131622  90000000.0  142502728.0                 374343626.0   \n",
       "2  tt8946378  40000000.0  165363234.0                 309232797.0   \n",
       "3  tt8579674  95000000.0  159227644.0                 368027644.0   \n",
       "4  tt1598778  60000000.0   75658097.0                 136515867.0   \n",
       "\n",
       "   Opening Weekend USA                             Title  Year  Popularity  \\\n",
       "0           10651884.0                     The Gentlemen  2019           6   \n",
       "1           41082018.0  Once Upon a Time... in Hollywood  2019           8   \n",
       "2           26769548.0                        Knives Out  2019          10   \n",
       "3             576216.0                              1917  2019          13   \n",
       "4           22403596.0                         Contagion  2011          15   \n",
       "\n",
       "                                       Genre  Runtime_min Release_day  \\\n",
       "0                    [Action, Comedy, Crime]        113.0  01/24/2020   \n",
       "1                            [Comedy, Drama]        161.0  07/26/2019   \n",
       "2  [Comedy, Crime, Drama, Mystery, Thriller]        131.0  11/27/2019   \n",
       "3                               [Drama, War]        119.0  01/10/2020   \n",
       "4                  [Action, Drama, Thriller]        106.0  09/09/2011   \n",
       "\n",
       "   IMDB_Rate  Rating_count             Director  \\\n",
       "0        8.0      111609.0        [Guy Ritchie]   \n",
       "1        7.7      445375.0  [Quentin Tarantino]   \n",
       "2        7.9      279415.0       [Rian Johnson]   \n",
       "3        8.3      285906.0         [Sam Mendes]   \n",
       "4        6.7      257205.0  [Steven Soderbergh]   \n",
       "\n",
       "                               Writer  \\\n",
       "0        [Guy Ritchie, Ivan Atkinson]   \n",
       "1                 [Quentin Tarantino]   \n",
       "2                      [Rian Johnson]   \n",
       "3  [Sam Mendes, Krysty Wilson-Cairns]   \n",
       "4                    [Scott Z. Burns]   \n",
       "\n",
       "                                                Star  User_Review_Number  \\\n",
       "0  [Matthew McConaughey, Charlie Hunnam, Michelle...               867.0   \n",
       "1      [Leonardo DiCaprio, Brad Pitt, Margot Robbie]              4811.0   \n",
       "2          [Daniel Craig, Chris Evans, Ana de Armas]              1822.0   \n",
       "3  [Dean-Charles Chapman, George MacKay, Daniel M...              2465.0   \n",
       "4               [Matt Damon, Kate Winslet, Jude Law]               684.0   \n",
       "\n",
       "   Critical_Review_Number Meta_Rating  \n",
       "0                   231.0           R  \n",
       "1                   594.0           R  \n",
       "2                   417.0       PG-13  \n",
       "3                   447.0           R  \n",
       "4                   255.0       PG-13  "
      ]
     },
     "execution_count": 15,
     "metadata": {},
     "output_type": "execute_result"
    }
   ],
   "source": [
    "New_df.head()"
   ]
  },
  {
   "cell_type": "code",
   "execution_count": 16,
   "metadata": {},
   "outputs": [],
   "source": [
    "New_df.to_json('clean1_data.json')"
   ]
  },
  {
   "cell_type": "code",
   "execution_count": 55,
   "metadata": {},
   "outputs": [
    {
     "data": {
      "image/png": "[encoded data removed]",
      "text/plain": [
       "<Figure size 720x576 with 1 Axes>"
      ]
     },
     "metadata": {
      "needs_background": "light"
     },
     "output_type": "display_data"
    }
   ],
   "source": [
    "df = New_df\n",
    "\n",
    "# f, ax = plt.subplots(figsize=(15,9))\n",
    "# sns.boxplot(data = df.iloc[:,1:5])\n",
    "columns = ['Budget','Gross USA', 'Cumulative Worldwide Gross', 'Opening Weekend USA', ]\n",
    "boxplot = df.boxplot(column=columns, grid=False, rot=45, fontsize=12, figsize = (10,8))\n"
   ]
  },
  {
   "cell_type": "code",
   "execution_count": null,
   "metadata": {},
   "outputs": [],
   "source": []
  }
 ],
 "metadata": {
  "kernelspec": {
   "display_name": "Python [conda env:learn-env] *",
   "language": "python",
   "name": "conda-env-learn-env-py"
  },
  "language_info": {
   "codemirror_mode": {
    "name": "ipython",
    "version": 3
   },
   "file_extension": ".py",
   "mimetype": "text/x-python",
   "name": "python",
   "nbconvert_exporter": "python",
   "pygments_lexer": "ipython3",
   "version": "3.6.9"
  }
 },
 "nbformat": 4,
 "nbformat_minor": 2
}
