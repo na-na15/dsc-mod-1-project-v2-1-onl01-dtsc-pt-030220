{
 "cells": [
  {
   "cell_type": "code",
   "execution_count": 1,
   "metadata": {},
   "outputs": [],
   "source": [
    "import re\n",
    "import numpy as np\n",
    "import pandas as pd\n",
    "import math\n",
    "import json\n",
    "import collections\n",
    "import seaborn as sns\n",
    "import matplotlib.pyplot as plt\n",
    "%matplotlib inline"
   ]
  },
  {
   "cell_type": "code",
   "execution_count": 2,
   "metadata": {},
   "outputs": [],
   "source": [
    "#my_data = open(\"data200.json\", \"r\")\n",
    "# data = pd.read_json (r'C:\\Flatiron\\course-material\\ModuleOneFinalProject\\dsc-mod-1-project-v2-1-onl01-dtsc-pt-030220\\data_0423_0749PM_30pages_2010_2020.json')\n",
    "# df = df = pd.DataFrame(data)\n",
    "# # df.info()\n",
    "# print(df.shape)\n",
    "# #df.describe()\n",
    "# df[1465:1470]\n",
    "\n",
    "int_columns = ['Budget','Gross USA', 'Cumulative Worldwide Gross', 'Popularity',\n",
    "                'Opening Weekend USA', 'Opening Weekend USA','IMDB_Rate', 'Rating_count',\n",
    "                'Meta_Score', 'User_Review_Number', 'Critical_Review_Number']\n",
    "\n",
    "def load_data():\n",
    "    data = pd.read_json (r'C:\\Flatiron\\course-material\\ModuleOneFinalProject\\dsc-mod-1-project-v2-1-onl01-dtsc-pt-030220\\data_0423_0749PM_30pages_2010_2020.json')\n",
    "    return pd.DataFrame(data)\n"
   ]
  },
  {
   "cell_type": "code",
   "execution_count": 3,
   "metadata": {},
   "outputs": [],
   "source": [
    "# int_columns = ['Budget','Gross USA','Cumulative Worldwide Gross', 'Popularity',\n",
    "#                'Opening Weekend USA','Opening Weekend USA',\n",
    "#                'IMDB_Rate','Rating_count', 'Meta_Score','User_Review_Number',\n",
    "#               'Critical_Review_Number']\n",
    "# for column in int_columns:\n",
    "#     df[column] = pd.to_numeric(df[column],errors='coerce')\n",
    "\n",
    "def to_numeric(df):\n",
    "    df[int_columns] = df[int_columns].apply(pd.to_numeric, errors='coerce')\n",
    "\n",
    "    return df\n",
    "    \n",
    "# df = load_data()\n",
    "# df = to_numeric(df)\n",
    "# df.head()"
   ]
  },
  {
   "cell_type": "code",
   "execution_count": 4,
   "metadata": {},
   "outputs": [],
   "source": [
    "# non_miss_Budegets = df['Budget'].loc[df['Budget'] > 0]\n",
    "# non_miss_Budegets.isna().sum()\n",
    "# display(non_miss_Budegets.apply(['mean', 'median', 'std']))\n",
    "# non_miss_Budegets.hist()\n",
    "\n",
    "def budget_hist(df):\n",
    "    non_miss_Budegets = df['Budget'].loc[df['Budget'] > 0]\n",
    "    non_miss_Budegets.isna().sum()\n",
    "    display(non_miss_Budegets.apply(['mean', 'median', 'std']))\n",
    "    non_miss_Budegets.hist()"
   ]
  },
  {
   "cell_type": "code",
   "execution_count": 5,
   "metadata": {},
   "outputs": [],
   "source": [
    "# def creat_genre_df(col_name):\n",
    "\n",
    "#     Genres = []\n",
    "#     Title_id = []\n",
    "#     money = [] \n",
    "#     for index, genres in enumerate(df['Genre']):\n",
    "#          if(isinstance(genres, list)):\n",
    "#             for genre in genres:\n",
    "#                 Genres.append(genre)\n",
    "#                 Title_id.append(df['Title_id'][index])\n",
    "#                 money.append(df[col_name][index])\n",
    "#     #            print(Genres, Title_id, Genres)\n",
    "\n",
    "#     genres_dic = {'Title_id':Title_id, 'Genres': Genres}\n",
    "#     genres_dic[col_name] = money\n",
    "#     genres_df = pd.DataFrame(genres_dic)\n",
    "#     return genres_df\n",
    "\n",
    "# creat_genre_df('Budget')\n",
    "\n",
    "\n",
    "\n",
    "# https://www.mikulskibartosz.name/how-to-split-a-list-inside-a-dataframe-cell-into-rows-in-pandas/\n",
    "def flatten_genre(df):\n",
    "    flatten_df = df['Genre'].apply(pd.Series) \\\n",
    "        .merge(df, right_index = True, left_index = True) \\\n",
    "        .drop(['Genre'], axis = 1) \\\n",
    "        .melt(id_vars = df.columns.drop('Genre'), value_name = \"Genre\") \\\n",
    "        .drop(\"variable\", axis = 1) \\\n",
    "        .dropna(subset=['Genre'])\n",
    "    return flatten_df\n",
    "#     print(df2.isna().sum())\n",
    "\n",
    "# flatten_genre(df)"
   ]
  },
  {
   "cell_type": "code",
   "execution_count": 6,
   "metadata": {},
   "outputs": [],
   "source": [
    "# All_Genres = []\n",
    "# gener_mean = {}\n",
    "# for index, genres in enumerate(df['Genre']):\n",
    "#          if(isinstance(genres, list)):\n",
    "#             for genre in genres:\n",
    "#                 All_Genres.append(genre)\n",
    "# unique_genres = set(All_Genres)\n",
    "# unique_genres\n",
    "# for genre in unique_genres:\n",
    "#     gener_mean[genre] = creat_genre_df('Budget').loc[creat_genre_df('Budget')['Genres']== genre].mean()\n",
    "\n",
    "\n",
    "# df must be the flatten df\n",
    "# genre column must not be list\n",
    "def get_all_genres_count(flatten_df):\n",
    "    return flatten_df.groupby('Genre')['Genre'].count()\n",
    "\n",
    "\n",
    "\n",
    "# df = load_data()\n",
    "# df = to_numeric(df)\n",
    "# flatten_df = flatten_genre(df)\n",
    "# all_genres = get_all_genres_count(flatten_df)\n",
    "# # print(len(all_genres))\n",
    "# all_genres['Action']\n"
   ]
  },
  {
   "cell_type": "code",
   "execution_count": 7,
   "metadata": {},
   "outputs": [],
   "source": [
    "# unique_genres = set(All_Genres)\n",
    "\n",
    "# total_rows =len(All_Genres)\n",
    "# genre_country_list = collections.Counter(All_Genres)\n",
    "\n",
    "\n",
    "# def one_genre_weight(movie_genre):\n",
    "#     All_Genres = []\n",
    "#     for index, genres in enumerate(df['Genre']):\n",
    "#              if(isinstance(genres, list)):\n",
    "#                 for genre in genres:\n",
    "#                     All_Genres.append(genre)\n",
    "#     #print(All_Genres)\n",
    "#     genre_country = collections.Counter(All_Genres)\n",
    "#     weight = genre_country[movie_genre]/len(All_Genres)\n",
    "#     #print(weight)\n",
    "#     return weight\n",
    "# one_genre_weight('War')\n",
    "\n"
   ]
  },
  {
   "cell_type": "code",
   "execution_count": 8,
   "metadata": {
    "scrolled": true
   },
   "outputs": [],
   "source": [
    "# def all_genres_weight (genre_country_list):\n",
    "#     genres_weight = {}\n",
    "#     for genre in genre_country_list:\n",
    "#         genres_weight[genre] = one_genre_weight(genre)\n",
    "#     return genres_weight\n",
    "# all_genres_weight (genre_country_list)\n",
    "\n",
    "\n",
    "def get_genres_weight(all_genres_count, flatten_df):\n",
    "    return all_genres_count / len(flatten_df)\n",
    "\n",
    "\n",
    "\n",
    "# df = load_data()\n",
    "# df = to_numeric(df)\n",
    "# flatten_df = flatten_genre(df)\n",
    "# all_genres_count = get_all_genres_count(flatten_df)\n",
    "# genres_weight = get_genres_weight(all_genres_count, flatten_df)\n",
    "# genres_weight.head()\n",
    "# # print(all_genres_count / 10)\n",
    "# # print(len(all_genres))\n",
    "# # all_genres['Action']"
   ]
  },
  {
   "cell_type": "code",
   "execution_count": 9,
   "metadata": {},
   "outputs": [],
   "source": [
    "def remove_outlier(df, col_name):\n",
    "    q1 = df[col_name].quantile(0.25)\n",
    "    q3 = df[col_name].quantile(0.75)\n",
    "    iqr = q3-q1 #Interquartile range\n",
    "    fence_low  = q1-1.5*iqr\n",
    "    fence_high = q3+1.5*iqr\n",
    "    df_out = df.loc[(df[col_name] > fence_low) & (df[col_name] < fence_high)]\n",
    "    return df_out\n"
   ]
  },
  {
   "cell_type": "code",
   "execution_count": 10,
   "metadata": {},
   "outputs": [],
   "source": [
    "# def get_per_header_stat_df(df_name, column, group_by_column):\n",
    "#     new_df = remove_outlier(df_name, column)\n",
    "#     no_outlier_new_df = new_df.loc[new_df[column] > 0 ].groupby(group_by_column).agg({column: ['mean', 'median']})\n",
    "#     return no_outlier_new_df\n",
    "# get_per_header_stat_df(creat_genre_df('Budget'),'Budget', 'Genres')\n",
    "\n",
    "\n",
    "def get_per_column_stat(flatten_df, column, group_by_column):\n",
    "    no_outlier_df = remove_outlier(flatten_df, column)\n",
    "    return no_outlier_df.groupby(group_by_column).agg({column: ['mean', 'median']})\n",
    "\n",
    "\n",
    "\n",
    "# df = load_data()\n",
    "# df = to_numeric(df)\n",
    "# flatten_df = flatten_genre(df)\n",
    "# all_genres_count = get_all_genres_count(flatten_df)\n",
    "# genres_weight = get_genres_weight(all_genres_count, flatten_df)\n",
    "# per_column_stat = get_per_column_stat(flatten_df, 'Budget', 'Genre')\n",
    "# per_column_stat.head()\n",
    "# # flatten_df.head()\n",
    "# # genres_weight.head()\n",
    "# # print(all_genres_count / 10)\n",
    "# # print(len(all_genres))\n",
    "# # all_genres['Action']"
   ]
  },
  {
   "cell_type": "code",
   "execution_count": 11,
   "metadata": {},
   "outputs": [
    {
     "data": {
      "text/plain": [
       "Title_id                        0\n",
       "Budget                          0\n",
       "Gross USA                       0\n",
       "Cumulative Worldwide Gross      0\n",
       "Opening Weekend USA             0\n",
       "Title                           7\n",
       "Year                            0\n",
       "Popularity                      0\n",
       "Genre                           0\n",
       "Runtime_min                    33\n",
       "Release_day                     5\n",
       "IMDB_Rate                       1\n",
       "Rating_count                    1\n",
       "Meta_Score                    895\n",
       "Director                        0\n",
       "Writer                          0\n",
       "Star                            0\n",
       "User_Review_Number              7\n",
       "Critical_Review_Number          7\n",
       "Meta_Rating                     0\n",
       "dtype: int64"
      ]
     },
     "execution_count": 11,
     "metadata": {},
     "output_type": "execute_result"
    }
   ],
   "source": [
    "# genre_budget_df = creat_genre_df('Budget')\n",
    "# header_stat = get_per_header_stat_df(genre_budget_df,'Budget', 'Genres')\n",
    "# a = 0\n",
    "# calculated_all_genres_weight = all_genres_weight(genre_country_list)\n",
    "# for index, genres in enumerate(df['Genre']):\n",
    "#     if math.isnan(df['Budget'][index]) :\n",
    "#         a += 1\n",
    "#         weight_sum = 0\n",
    "#         weighted_mean = 0\n",
    "#         for movie_genre in genres:\n",
    "#             weight_sum = weight_sum +calculated_all_genres_weight[movie_genre]\n",
    "#             weighted_mean = weighted_mean + (header_stat['Budget']['mean'][movie_genre] *calculated_all_genres_weight[movie_genre])\n",
    "\n",
    "#         df.iloc[index, df.columns.get_loc('Budget')] = weighted_mean / weight_sum\n",
    "\n",
    "# df.isna().sum()           \n",
    "\n",
    "\n",
    "def estimate_missing_column(df, per_column_stat, genres_weight, column_name):\n",
    "    for index, genres in enumerate(df['Genre']):\n",
    "        if math.isnan(df[column_name][index]) :\n",
    "            weight_sum = 0\n",
    "            weighted_mean = 0\n",
    "            for movie_genre in genres:\n",
    "                if (movie_genre in per_column_stat[column_name]['mean']):\n",
    "                    weight_sum += genres_weight[movie_genre]\n",
    "                    weighted_mean += \\\n",
    "                            per_column_stat[column_name]['mean'][movie_genre] * \\\n",
    "                            genres_weight[movie_genre]\n",
    "            df.iloc[index, df.columns.get_loc(column_name)] = weighted_mean / weight_sum\n",
    "    return df\n",
    "\n",
    "def get_ready_to_analyze_data():\n",
    "    df = load_data()\n",
    "    df = to_numeric(df)\n",
    "    flatten_df = flatten_genre(df)\n",
    "    all_genres_count = get_all_genres_count(flatten_df)\n",
    "    genres_weight = get_genres_weight(all_genres_count, flatten_df)\n",
    "    for column in ['Budget', 'Opening Weekend USA', 'Gross USA', 'Cumulative Worldwide Gross']:\n",
    "        per_column_stat = get_per_column_stat(flatten_df, column, 'Genre')\n",
    "        df = estimate_missing_column(df, per_column_stat, genres_weight, column)\n",
    "    return df\n",
    "\n",
    "ready_to_analyze_data = get_ready_to_analyze_data()\n",
    "ready_to_analyze_data.isna().sum()\n",
    "# no_missing_df.head()\n"
   ]
  },
  {
   "cell_type": "code",
   "execution_count": 12,
   "metadata": {},
   "outputs": [],
   "source": [
    "#creat_genre_df('Budget').loc[creat_genre_df('Budget')['Genres']=='Action'].mean()"
   ]
  },
  {
   "cell_type": "code",
   "execution_count": 13,
   "metadata": {},
   "outputs": [],
   "source": [
    "# data_genres_df = pd.melt(genres_df, id_vars=['Genres'],value_vars=['Budget'],var_name='Gross')\n",
    "# sns.boxplot(x='Genres',y='value',data=data_genres_df,hue='Gross')"
   ]
  },
  {
   "cell_type": "code",
   "execution_count": 14,
   "metadata": {},
   "outputs": [],
   "source": [
    "#genres_df.groupby('Genres').mean()"
   ]
  },
  {
   "cell_type": "code",
   "execution_count": 15,
   "metadata": {},
   "outputs": [],
   "source": [
    "# error_list = []\n",
    "# for i, item in enumerate(df['Budget:']):\n",
    "#     try:\n",
    "#         int(item)\n",
    "#     except ValueError:\n",
    "#         #error_list.append('ERROR at index {}: {!r}'.format(i, item))\n",
    "#         error_list.append(i)\n",
    "# print(error_list)\n",
    "# len(error_list)\n",
    "#df = df.drop(error_list, axis=0)"
   ]
  },
  {
   "cell_type": "code",
   "execution_count": 16,
   "metadata": {},
   "outputs": [],
   "source": [
    "# curencys = [re.split(r'(\\d+)', error) for error in error_list]\n",
    "# print(curencys)\n",
    "# curency_used = []\n",
    "# for curency in curencys:\n",
    "#     curency_used.append(curency[0])\n",
    "# uniqe_currency = list(set(curency_used))\n",
    "# uniqe_currency"
   ]
  },
  {
   "cell_type": "code",
   "execution_count": 17,
   "metadata": {},
   "outputs": [],
   "source": [
    "# df = df.replace({'None': None})\n",
    "# df.head()\n",
    "# count = 0\n",
    "# for i, item in enumerate(df['Budget:']):\n",
    "#     if item == 'None':\n",
    "# #     if item is None:\n",
    "#         count += 1\n",
    "# print(count)"
   ]
  },
  {
   "cell_type": "code",
   "execution_count": 18,
   "metadata": {},
   "outputs": [],
   "source": [
    "# from scipy import stats\n",
    "# z_scores = stats.zscore(genres_df)\n",
    "# abs_z_scores = np.abs(z_scores)\n",
    "# filtered_entries = (abs_z_scores < 3).all(axis=1)\n",
    "# new_df = df[filtered_entries]"
   ]
  },
  {
   "cell_type": "code",
   "execution_count": null,
   "metadata": {},
   "outputs": [],
   "source": []
  }
 ],
 "metadata": {
  "kernelspec": {
   "display_name": "Python [conda env:learn-env] *",
   "language": "python",
   "name": "conda-env-learn-env-py"
  },
  "language_info": {
   "codemirror_mode": {
    "name": "ipython",
    "version": 3
   },
   "file_extension": ".py",
   "mimetype": "text/x-python",
   "name": "python",
   "nbconvert_exporter": "python",
   "pygments_lexer": "ipython3",
   "version": "3.6.9"
  }
 },
 "nbformat": 4,
 "nbformat_minor": 2
}
