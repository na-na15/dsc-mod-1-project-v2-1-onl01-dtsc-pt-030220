{
 "cells": [
  {
   "cell_type": "markdown",
   "metadata": {},
   "source": [
    "## Final Project Submission\n",
    "\n",
    "Please fill out:\n",
    "* Student name: Nastaran Nazemian\n",
    "* Student pace: part time\n",
    "* Scheduled project review date/time: ??????????\n",
    "* Instructor name: Eli Thomas\n",
    "* Blog post URL:?????????????\n"
   ]
  },
  {
   "cell_type": "code",
   "execution_count": 1,
   "metadata": {},
   "outputs": [],
   "source": [
    "from bs4 import BeautifulSoup\n",
    "import requests \n",
    "from datetime import datetime\n",
    "from datetime import date"
   ]
  },
  {
   "cell_type": "code",
   "execution_count": 2,
   "metadata": {},
   "outputs": [],
   "source": [
    "def search_movies_page(index):\n",
    "    html_page = requests.get('https://www.imdb.com/search/title/?title_type=feature&release_date=2019-01-01,2020-01-01&countries=us&start=' + str(index * 50 + 1))\n",
    "    soup = BeautifulSoup(html_page.content, 'html.parser')\n",
    "    movies = soup.find_all('div', \"lister-item-content\")\n",
    "    urls = []\n",
    "    for i in range(0,len(movies)):\n",
    "        movies[i]\n",
    "        movie_url = 'https://www.imdb.com' + movies[i].find('h3', 'lister-item-header').find('a')['href'] \n",
    "#         print(movie_url)\n",
    "        urls.append(movie_url)\n",
    "    return(urls)\n",
    "\n",
    "# url = search_movies_page(0)\n",
    "#url\n"
   ]
  },
  {
   "cell_type": "code",
   "execution_count": 3,
   "metadata": {},
   "outputs": [],
   "source": [
    "def movie_page(url):\n",
    "    movie_page = requests.get(url)\n",
    "    movie = BeautifulSoup(movie_page.content, 'html.parser')\n",
    "    return movie\n",
    "\n",
    "#this_movie_page = movie_page(\"https://www.imdb.com/title/tt8367814/\")\n",
    "#movie_page(url)"
   ]
  },
  {
   "cell_type": "code",
   "execution_count": 4,
   "metadata": {},
   "outputs": [],
   "source": [
    "#def movie_id(index,movie_index)    \n",
    "#     title = {}\n",
    "#     movie_title_id =search_movies_page(index)[movie_index].split('/')\n",
    "#     title_id = movie_title_id[-2]\n",
    "#     title[Title] = title_id \n",
    "#return(title)"
   ]
  },
  {
   "cell_type": "code",
   "execution_count": 5,
   "metadata": {},
   "outputs": [],
   "source": [
    "def movie_id(url):\n",
    "    title = {}\n",
    "    movie_title_id = url.split('/')\n",
    "    title_id = movie_title_id[-2]\n",
    "    title['Title_id'] = title_id\n",
    "    return title\n",
    "#movie_id(url)\n"
   ]
  },
  {
   "cell_type": "code",
   "execution_count": 6,
   "metadata": {},
   "outputs": [],
   "source": [
    "def boxoffice(this_movie_page):\n",
    "    box_office = ['Budget:','Gross USA:','Cumulative Worldwide Gross:','Opening Weekend USA:']\n",
    "    results = {}\n",
    "    #this_movie_page = movie_page(index,movie_index)\n",
    "    for x in box_office:\n",
    "        finance_value = this_movie_page.find('h4', string= x)\n",
    "        if finance_value is not None:\n",
    "            x_money = finance_value.parent.contents[2].replace('$',\"\").replace(',',\"\")\n",
    "            results[x] = x_money\n",
    "        else:\n",
    "            results[x] = 'None'\n",
    "    return results\n",
    "#boxoffice(url)  "
   ]
  },
  {
   "cell_type": "code",
   "execution_count": 7,
   "metadata": {},
   "outputs": [],
   "source": [
    "def movie_info(this_movie_page):\n",
    "    results = {}\n",
    "    #this_movie_page = movie_page(index,movie_index)\n",
    "    title = this_movie_page.find('div', class_=\"title_wrapper\").find('h1', class_=\"\").contents[0].replace('\\xa0','')   \n",
    "    year = this_movie_page.find('div', class_=\"title_wrapper\").find('a').contents[0]  \n",
    "    popularity = this_movie_page.find_all('div', class_ = \"titleReviewBarSubItem\")[-1].find('span', \"subText\").contents[0].strip().split(' ')[0].strip().replace(',','')\n",
    "    results = {'Title':title,'Year': year,'Popularity':popularity}\n",
    "    return results\n",
    "#movie_info(url)"
   ]
  },
  {
   "cell_type": "code",
   "execution_count": 8,
   "metadata": {},
   "outputs": [],
   "source": [
    "def movie_genres(this_movie_page):\n",
    "    #this_movie_page = movie_page(index, movie_index)\n",
    "    genres_out = {}\n",
    "    genres_list = this_movie_page.find('div', class_=\"title_wrapper\").find('div', class_=\"subtext\").text.split(\"|\")\n",
    "    genres = genres_list[2].split()\n",
    "    genres = list(map(lambda genre: genre.replace(',',\"\"),genres))\n",
    "    genres_out['Geres'] = genres \n",
    "    return genres_out\n",
    "#movie_genres(url)"
   ]
  },
  {
   "cell_type": "code",
   "execution_count": 9,
   "metadata": {},
   "outputs": [],
   "source": [
    "def movie_runtime(this_movie_page):\n",
    "    #this_movie_page = movie_page(index,movie_index)\n",
    "    runtime_out = {}\n",
    "    runtime = this_movie_page.find('h4',string=\"Runtime:\").find_next_sibling('time').text.split()\n",
    "    runtime_min = runtime[0]\n",
    "    runtime_out['Runtime_min'] = runtime_min\n",
    "    return runtime_out\n",
    "#movie_runtime(url)\n"
   ]
  },
  {
   "cell_type": "code",
   "execution_count": 10,
   "metadata": {},
   "outputs": [],
   "source": [
    "def movie_release_day(this_movie_page):\n",
    "    #this_movie_page = movie_page(index,movie_index)\n",
    "    release_day = {}\n",
    "    release_day_list = this_movie_page.find('div', class_ = \"subtext\").find('a', title = \"See more release dates\").text.split()\n",
    "    date = \" \".join(release_day_list[0:3])\n",
    "    release_day_format = datetime.strptime(date, '%d %B %Y').strftime(\"%m/%d/%Y\")\n",
    "    release_day['Release_day'] = release_day_format\n",
    "    return release_day\n",
    "#movie_release_day(url)"
   ]
  },
  {
   "cell_type": "code",
   "execution_count": 11,
   "metadata": {},
   "outputs": [],
   "source": [
    "def rating (this_movie_page):\n",
    "    results = {}\n",
    "    #this_movie_page = movie_page(index, movie_index)\n",
    "    check_rating = this_movie_page.find('div', class_=\"ratingValue\")\n",
    "    if check_rating is not None:\n",
    "        rating = check_rating.find('strong')['title'].split()\n",
    "        imdb_rate = float(rating[0])\n",
    "        rating_count = rating[3].replace(',','')\n",
    "        results['IMDB_Rate'] = imdb_rate\n",
    "        results['Rating_count'] = rating_count\n",
    "    else:\n",
    "        results['IMDB_Rate'] = 'None'\n",
    "        results['Rating_count'] = 'None'\n",
    "        \n",
    "    check_value = this_movie_page.find('div',\"metacriticScore score_mixed titleReviewBarSubItem\")\n",
    "    if check_value is not None:  \n",
    "        meta_score = check_value.find('span').text\n",
    "        results['Meta_Score'] = meta_score\n",
    "    else:\n",
    "        results['Meta_Score'] = 'None'\n",
    "    return results\n",
    "#rating(url)"
   ]
  },
  {
   "cell_type": "code",
   "execution_count": 12,
   "metadata": {},
   "outputs": [],
   "source": [
    "def casts_names(this_movie_page):\n",
    "    roles = ['Director','Writer', 'Star']\n",
    "    results = {}\n",
    "\n",
    "            #this_movie_page = movie_page(index,movie_index)\n",
    "    for role in roles:\n",
    "        cast_role = (role+':')\n",
    "\n",
    "        name_list = []\n",
    "        check_role = this_movie_page.find('h4',string=role+':')\n",
    "        if (check_role is None):\n",
    "            check_role = this_movie_page.find('h4',string=role+'s:')\n",
    "        names = check_role.find_next_siblings('a')\n",
    "        for name in (names[:3]):\n",
    "            name_list.append(name.text)\n",
    "        results[role] = name_list\n",
    "    return results\n",
    "\n",
    "# casts_names(this_movie_page)"
   ]
  },
  {
   "cell_type": "code",
   "execution_count": 13,
   "metadata": {},
   "outputs": [],
   "source": [
    "##Find Number_User_Review, Number_Critical_Review\n",
    "def review (this_movie_page):\n",
    "    results = {}\n",
    "    #this_movie_page = movie_page(index,movie_index)\n",
    "    check_value = this_movie_page.find('div', \"titleReviewBarItem titleReviewbarItemBorder\")\n",
    "    if check_value is not None:\n",
    "        review = check_value.find('span', \"subText\")\n",
    "        user = review.find('a').text.split()\n",
    "        number_user_review = user[0].replace(',','')\n",
    "        results['User_Review_Number'] = number_user_review\n",
    "        critic = review.find('a', href = \"externalreviews\").text.split()\n",
    "        number_critical_review = critic[0]\n",
    "        results['Critical_Review_Number'] = number_critical_review\n",
    "    else:\n",
    "        results['User_Review_Number'] = 'None'\n",
    "        results['Critical_Review_Number'] = 'None'\n",
    "    return(results)\n",
    "#review(url)"
   ]
  },
  {
   "cell_type": "code",
   "execution_count": 14,
   "metadata": {},
   "outputs": [],
   "source": [
    "##Find Meta_rating,  Genera, and Release_Day---->sub_text(Tird part)\n",
    "def meta_rate (this_movie_page):\n",
    "    results = {}\n",
    "    #this_movie_page = movie_page(index,movie_index)\n",
    "    check_value = this_movie_page.find('div', class_=\"title_wrapper\")\n",
    "    if check_value is not None:\n",
    "        sub_text =check_value.find('div', class_ = \"subtext\").text.split('|')\n",
    "        meta_rating = sub_text[0].strip()\n",
    "        results['Meta_Rating'] = meta_rating\n",
    "\n",
    "    else:\n",
    "        results['Meta_Rating'] = 'None'\n",
    "    \n",
    "    return(results)\n",
    "\n",
    "#meta_rate(url)"
   ]
  },
  {
   "cell_type": "code",
   "execution_count": 15,
   "metadata": {},
   "outputs": [],
   "source": [
    "# this_movie_page = movie_page(url)\n",
    "def one_movie_info(url):\n",
    "    this_movie_page = movie_page(url)\n",
    "    movie_data = {}\n",
    "    movie_function_list = [movie_id(url), \n",
    "                           boxoffice(this_movie_page),\n",
    "                           movie_info(this_movie_page),\n",
    "                           movie_genres(this_movie_page),\n",
    "                           movie_runtime(this_movie_page),\n",
    "                           movie_release_day(this_movie_page),\n",
    "                           rating (this_movie_page),\n",
    "                           casts_names(this_movie_page),\n",
    "                           review (this_movie_page),\n",
    "                           meta_rate (this_movie_page)]\n",
    "    for function in movie_function_list:\n",
    "        movie_data.update(function)\n",
    "        \n",
    "        \n",
    "#     movie_data.update(movie_id(this_movie_page))\n",
    "    \n",
    "    return(movie_data)\n",
    "# len(one_movie_info(url))  \n"
   ]
  },
  {
   "cell_type": "code",
   "execution_count": 16,
   "metadata": {},
   "outputs": [],
   "source": [
    "# urls = search_movies_page(0)\n",
    "# #print(len(urls))\n",
    "# movies_data = []\n",
    "# for url in urls:\n",
    "# #     this_movie_page = movie_page(url)\n",
    "#     one_row = one_movie_info(url)\n",
    "#     movies_data.append(one_row)\n",
    "#     #print(len(movies_data))\n",
    "# print(len(movies_data))"
   ]
  },
  {
   "cell_type": "code",
   "execution_count": null,
   "metadata": {},
   "outputs": [
    {
     "name": "stdout",
     "output_type": "stream",
     "text": [
      "https://www.imdb.com/title/tt7984766/\n",
      "https://www.imdb.com/title/tt0437086/\n",
      "https://www.imdb.com/title/tt1489887/\n",
      "https://www.imdb.com/title/tt6450804/\n",
      "https://www.imdb.com/title/tt4332232/\n",
      "https://www.imdb.com/title/tt5814534/\n",
      "https://www.imdb.com/title/tt8305806/\n",
      "https://www.imdb.com/title/tt6513120/\n",
      "https://www.imdb.com/title/tt7879442/\n",
      "https://www.imdb.com/title/tt8663516/\n",
      "https://www.imdb.com/title/tt2935510/\n",
      "https://www.imdb.com/title/tt7798634/\n",
      "https://www.imdb.com/title/tt3224458/\n",
      "https://www.imdb.com/title/tt9071322/\n",
      "https://www.imdb.com/title/tt7456310/\n",
      "https://www.imdb.com/title/tt4364194/\n",
      "https://www.imdb.com/title/tt6521876/\n",
      "https://www.imdb.com/title/tt0448115/\n",
      "https://www.imdb.com/title/tt5073642/\n",
      "https://www.imdb.com/title/tt9243946/\n",
      "https://www.imdb.com/title/tt8299768/\n"
     ]
    }
   ],
   "source": [
    "movies_data = []\n",
    "for index in range (1,2):\n",
    "    urls = search_movies_page(index)\n",
    "#     print(len(urls))\n",
    "    for url in urls:\n",
    "        print(url)\n",
    "        one_row = one_movie_info(url)\n",
    "        movies_data.append(one_row)\n",
    "#         print(len(movies_data))\n",
    "print('end', len(movies_data))"
   ]
  },
  {
   "cell_type": "code",
   "execution_count": null,
   "metadata": {},
   "outputs": [],
   "source": [
    "import re\n",
    "import numpy as np\n",
    "import pandas as pd\n",
    "import time\n",
    "import seaborn as sns\n",
    "import matplotlib.pyplot as plt\n",
    "%matplotlib inline"
   ]
  },
  {
   "cell_type": "code",
   "execution_count": null,
   "metadata": {},
   "outputs": [],
   "source": [
    "df = pd.DataFrame(movies_data)\n",
    "df.head()\n"
   ]
  },
  {
   "cell_type": "code",
   "execution_count": null,
   "metadata": {},
   "outputs": [],
   "source": [
    "df.describe()"
   ]
  },
  {
   "cell_type": "code",
   "execution_count": null,
   "metadata": {},
   "outputs": [],
   "source": [
    "df.info()\n",
    "df.shape\n"
   ]
  },
  {
   "cell_type": "code",
   "execution_count": null,
   "metadata": {},
   "outputs": [],
   "source": []
  }
 ],
 "metadata": {
  "kernelspec": {
   "display_name": "Python 3",
   "language": "python",
   "name": "python3"
  },
  "language_info": {
   "codemirror_mode": {
    "name": "ipython",
    "version": 3
   },
   "file_extension": ".py",
   "mimetype": "text/x-python",
   "name": "python",
   "nbconvert_exporter": "python",
   "pygments_lexer": "ipython3",
   "version": "3.6.9"
  }
 },
 "nbformat": 4,
 "nbformat_minor": 2
}
