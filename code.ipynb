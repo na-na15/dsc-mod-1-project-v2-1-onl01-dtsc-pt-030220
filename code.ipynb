{
 "cells": [
  {
   "cell_type": "markdown",
   "metadata": {},
   "source": [
    "## Final Project Submission\n",
    "\n",
    "Please fill out:\n",
    "* Student name: Nastaran Nazemian\n",
    "* Student pace: part time\n",
    "* Scheduled project review date/time: ??????????\n",
    "* Instructor name: Eli Thomas\n",
    "* Blog post URL:?????????????\n"
   ]
  },
  {
   "cell_type": "code",
   "execution_count": 447,
   "metadata": {},
   "outputs": [],
   "source": [
    "from bs4 import BeautifulSoup\n",
    "import requests \n",
    "from datetime import datetime\n",
    "from datetime import date"
   ]
  },
  {
   "cell_type": "code",
   "execution_count": 448,
   "metadata": {},
   "outputs": [
    {
     "name": "stdout",
     "output_type": "stream",
     "text": [
      "50\n",
      "https://www.imdb.com/title/tt2716382/\n"
     ]
    }
   ],
   "source": [
    "##### Web Scraping(IMDB)\n",
    "## Make a get request to retrieve\n",
    "index = 1 # 0  to n\n",
    "html_page = requests.get('https://www.imdb.com/search/title/?title_type=feature&release_date=2019-01-01,2020-01-01&countries=us&start=' + str(index * 50 + 1))\n",
    "soup = BeautifulSoup(html_page.content, 'html.parser')\n",
    "movies = soup.find_all('div', \"lister-item-content\")\n",
    "\n",
    "print(len(movies))\n",
    "## Use a movie as sample for Scraping & Pass the page contents to beautiful soup for parsing\n",
    "movie_id = 0\n",
    "movie_url = 'https://www.imdb.com' + movies[movie_id].find('h3', 'lister-item-header').find('a')['href']\n",
    "movie_page = requests.get(movie_url)\n",
    "movie = BeautifulSoup(movie_page.content, 'html.parser')\n",
    "\n",
    "print(movie_url) \n",
    "\n"
   ]
  },
  {
   "cell_type": "code",
   "execution_count": null,
   "metadata": {},
   "outputs": [],
   "source": [
    "def casts_names(role, n):\n",
    "    names = movie.find('h4',string=role).find_next_siblings('a')\n",
    "    name_list = []\n",
    "    for name in (names[:n]):\n",
    "        name_list.append(name.text)\n",
    "    return name_list\n",
    "#print(casts1(role, n))\n",
    "\n",
    "directors = casts_names(\"Director:\",2)\n",
    "writers = casts_names(\"Writer:\",2)\n",
    "#stars= casts_names(\"Stars:\",3)\n",
    "\n",
    "print(directors)"
   ]
  },
  {
   "cell_type": "code",
   "execution_count": 449,
   "metadata": {},
   "outputs": [
    {
     "ename": "SyntaxError",
     "evalue": "invalid syntax (<ipython-input-449-7a35c99f90a8>, line 16)",
     "output_type": "error",
     "traceback": [
      "\u001b[1;36m  File \u001b[1;32m\"<ipython-input-449-7a35c99f90a8>\"\u001b[1;36m, line \u001b[1;32m16\u001b[0m\n\u001b[1;33m    genres =\u001b[0m\n\u001b[1;37m            ^\u001b[0m\n\u001b[1;31mSyntaxError\u001b[0m\u001b[1;31m:\u001b[0m invalid syntax\n"
     ]
    }
   ],
   "source": [
    "# #####Find information:\n",
    "#Title_ID\n",
    "movie_title_id = movies[movie_id].find('h3', 'lister-item-header').find('a')['href'].split('/')\n",
    "title_id = movie_title_id[2]\n",
    "#Movie_Name\n",
    "title = movie.find('div', class_=\"title_wrapper\").find('h1', class_=\"\").contents[0]\n",
    "#premiered year\n",
    "year = movie.find('div', class_=\"title_wrapper\").find('a').contents[0]\n",
    "\n",
    "##Find IMDB_Rate, Rating_Count, and Meta_Score--->rating_line(first part)\n",
    "\n",
    "rating_line = movie.find('div', class_=\"ratingValue\").find('strong')['title'].split()\n",
    "imdb_rate = float(rating_line[0])\n",
    "rating_count = int(rating_line[3].replace(',',''))\n",
    "meta_score = int(movie.find('div',\"metacriticScore score_mixed titleReviewBarSubItem\").find('span').text)\n",
    "genres =\n",
    "\n",
    "##Find Casts---->(Scond part)\n",
    "#defining a function\n",
    "\n",
    "# def casts_names(role, n):\n",
    "#     names = page.find('h4',string=role).find_next_siblings('a')\n",
    "#     name_list = []\n",
    "#     for name in (names[:n]):\n",
    "#         name_list.append(name.text)\n",
    "#     return name_list\n",
    "# #print(casts1(role, n))\n",
    "\n",
    "# directors = casts_names(\"Director:\",2)\n",
    "# writers = casts_names(\"Writers:\",2)\n",
    "# stars= casts_names(\"Stars:\",3)\n",
    "\n",
    "\n",
    "##Find Meta_rating,  Genera, and Release_Day---->sub_text(Tird part)\n",
    "sub_text = page.find('div', class_=\"title_wrapper\").find('div', class_ = \"subtext\").text.split('|')\n",
    "meta_rating = sub_text[0].strip()\n",
    "#release_day = sub_text[3].strip()\n",
    "\n",
    "\n",
    "\n",
    "##Find Number_User_Review, Number_Critical_Review\n",
    "review = movie.find('div', \"titleReviewBarItem titleReviewbarItemBorder\").find('span', \"subText\")\n",
    "user = review.find('a').text.split()\n",
    "number_user_review = int(user[0])\n",
    "critic = review.find('a', href = \"externalreviews\").text.split()\n",
    "number_critical_review = int(critic[0])\n",
    "\n",
    "##Find Runtime(min)\n",
    "runtime = movie.find('h4',string=\"Runtime:\").find_next_sibling('time').text.split()\n",
    "runtime_min = int(runtime[0])\n",
    "print(runtime_min)\n",
    "\n",
    "\n",
    "\n",
    "\n",
    "\n",
    "\n",
    "#genres = (m[2].strip().split())\n",
    "##Find Release Day, Popularity\n",
    "release_day_list = page.find('div', class_ = \"subtext\").find('a', title = \"See more release dates\").text.split()\n",
    "date = \" \".join(release_day_list[0:3])\n",
    "release_day = datetime.strptime(date, '%d %B %Y').strftime(\"%m/%d/%Y\")\n",
    "popularity = page.find_all('div', class_ = \"titleReviewBarSubItem\")[-1].find('span', \"subText\").contents[0].strip().split(' ')[0]#.strip()\n",
    "\n",
    "##Find Budget, Gross, Cumulative Worldwide Gross:\n",
    "budget = page.find('h4', string='Budget:').parent.contents[2]\n",
    "gross = page.find('h4', string='Gross USA:').parent.contents[2]\n",
    "worldwide_gross = page.find('h4', string='Cumulative Worldwide Gross:').parent.contents[2]\n",
    "opening_weekend_USA = page.find('h4', string='Opening Weekend USA:').parent.contents[2]\n",
    "\n"
   ]
  },
  {
   "cell_type": "code",
   "execution_count": null,
   "metadata": {},
   "outputs": [],
   "source": []
  }
 ],
 "metadata": {
  "kernelspec": {
   "display_name": "Python 3",
   "language": "python",
   "name": "python3"
  },
  "language_info": {
   "codemirror_mode": {
    "name": "ipython",
    "version": 3
   },
   "file_extension": ".py",
   "mimetype": "text/x-python",
   "name": "python",
   "nbconvert_exporter": "python",
   "pygments_lexer": "ipython3",
   "version": "3.6.9"
  }
 },
 "nbformat": 4,
 "nbformat_minor": 2
}
