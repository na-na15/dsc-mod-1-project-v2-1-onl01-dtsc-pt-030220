{
 "cells": [
  {
   "cell_type": "markdown",
   "metadata": {},
   "source": [
    "## Final Project Submission\n",
    "\n",
    "Please fill out:\n",
    "* Student name: Nastaran Nazemian\n",
    "* Student pace: part time\n",
    "* Scheduled project review date/time: ??????????\n",
    "* Instructor name: Eli Thomas\n",
    "* Blog post URL:?????????????\n"
   ]
  },
  {
   "cell_type": "code",
   "execution_count": 447,
   "metadata": {},
   "outputs": [],
   "source": [
    "from bs4 import BeautifulSoup\n",
    "import requests \n",
    "from datetime import datetime\n",
    "from datetime import date"
   ]
  },
  {
   "cell_type": "code",
   "execution_count": null,
   "metadata": {},
   "outputs": [],
   "source": [
    "def search_movies_page(index):\n",
    "    html_page = requests.get('https://www.imdb.com/search/title/?title_type=feature&release_date=2019-01-01,2020-01-01&countries=us&start=' + str(index * 50 + 1))\n",
    "    soup = BeautifulSoup(html_page.content, 'html.parser')\n",
    "    movies = soup.find_all('div', \"lister-item-content\")\n",
    "    return(movies)\n"
   ]
  },
  {
   "cell_type": "code",
   "execution_count": null,
   "metadata": {},
   "outputs": [],
   "source": [
    "def movie_page(index, movie_index):\n",
    "    movies_page = search_movies_page(index)\n",
    "    movie_url = 'https://www.imdb.com' + movies_page[movie_index].find('h3', 'lister-item-header').find('a')['href']\n",
    "    #print(movie_url)\n",
    "    movie_page = requests.get(movie_url)\n",
    "    movie = BeautifulSoup(movie_page.content, 'html.parser')\n",
    "    return(movie)\n",
    "index = 3\n",
    "movie_index = 2\n",
    "movie_page(index, movie_index)"
   ]
  },
  {
   "cell_type": "code",
   "execution_count": null,
   "metadata": {},
   "outputs": [],
   "source": [
    "def movie_id(index, movie_index):\n",
    "    title = {}\n",
    "    movies_page = search_movies_page(index)\n",
    "    movie_title_id = movies_page[movie_index].find('h3', 'lister-item-header').find('a')['href'].split('/')\n",
    "    title_id = movie_title_id[2]\n",
    "    title['Title'] = title_id\n",
    "    return(title)"
   ]
  },
  {
   "cell_type": "code",
   "execution_count": null,
   "metadata": {},
   "outputs": [],
   "source": [
    "def boxoffice(movie_index):\n",
    "\n",
    "    box_office = ['Budget:','Gross USA:','Cumulative Worldwide Gross:','Opening Weekend USA:']\n",
    "    results = {}\n",
    "    this_move_page = movie_page(index,movie_index)\n",
    "    for x in box_office:\n",
    "        check_value = this_move_page.find('h4', string= x)\n",
    "        if check_value is not None:\n",
    "            x_money = int(check_value.parent.contents[2].replace('$',\"\").replace(',',\"\"))\n",
    "            results[x] = x_money\n",
    "        else:\n",
    "            results[x] = 'None'\n",
    "    return(results)"
   ]
  },
  {
   "cell_type": "code",
   "execution_count": null,
   "metadata": {},
   "outputs": [],
   "source": [
    "def movie_info(movie_index):\n",
    "    results = {}\n",
    "    this_move_page = movie_page(index,movie_index)\n",
    "    title = this_move_page.find('div', class_=\"title_wrapper\").find('h1', class_=\"\").contents[0].replace('\\xa0','')   \n",
    "    year = this_move_page.find('div', class_=\"title_wrapper\").find('a').contents[0]  \n",
    "    popularity = int(this_move_page.find_all('div', class_ = \"titleReviewBarSubItem\")[-1].find('span', \"subText\").contents[0].strip().split(' ')[0].strip())\n",
    "    results = {'Title':title,'Year': year,'Popularity':popularity}\n",
    "    return(results)"
   ]
  },
  {
   "cell_type": "code",
   "execution_count": null,
   "metadata": {},
   "outputs": [],
   "source": [
    "def movie_genres(movie_index):\n",
    "    this_move_page = movie_page(index,movie_index)\n",
    "    genres = {}\n",
    "    this_move_page = movie_page(movie_index)\n",
    "    genres_list = this_move_page.find('div', class_=\"title_wrapper\").find('div', class_=\"subtext\").text.split(\"|\")\n",
    "    genres = genres_list[1].split()\n",
    "    genres = list(map(lambda genre: genre.replace(',',\"\"),genres))\n",
    "    genres['Geres'] = genres \n",
    "    return(genres)"
   ]
  },
  {
   "cell_type": "code",
   "execution_count": null,
   "metadata": {},
   "outputs": [],
   "source": [
    "def movie_runtime(movie_index):\n",
    "    this_move_page = movie_page(index,movie_index)\n",
    "    runtime ={}\n",
    "    runtime = this_move_page.find('h4',string=\"Runtime:\").find_next_sibling('time').text.split()\n",
    "    runtime_min = int(runtime[0])\n",
    "    runtime ['Runtime_min']\n",
    "    return(runtime)\n"
   ]
  },
  {
   "cell_type": "code",
   "execution_count": null,
   "metadata": {},
   "outputs": [],
   "source": [
    "def movie_release_day(movie_index):\n",
    "    this_move_page = movie_page(index,movie_index)\n",
    "    release_day = {}\n",
    "    release_day_list = this_move_page.find('div', class_ = \"subtext\").find('a', title = \"See more release dates\").text.split()\n",
    "    date = \" \".join(release_day_list[0:3])\n",
    "    release_day_format = datetime.strptime(date, '%d %B %Y').strftime(\"%m/%d/%Y\")\n",
    "    release_day['Release_day'] = release_day_format\n",
    "    return(release_day)"
   ]
  },
  {
   "cell_type": "code",
   "execution_count": null,
   "metadata": {},
   "outputs": [],
   "source": [
    "def rating (movie_index):\n",
    "    results = {}\n",
    "    this_move_page = movie_page(index,movie_index)\n",
    "    check_rating = this_move_page.find('div', class_=\"ratingValue\")\n",
    "    if check_rating is not None:\n",
    "        rating = check_rating.find('strong')['title'].split()\n",
    "        imdb_rate = float(rating[0])\n",
    "        rating_count = int(rating_line[3].replace(',',''))\n",
    "        results['IMDB_Rate'] = imdb_rate\n",
    "        results['Rating_count'] = rating_count\n",
    "    else:\n",
    "        results['IMDB_Rate'] = 'None'\n",
    "        results['Rating_count'] = 'None'\n",
    "        \n",
    "    check_value = this_move_page.find('div',\"metacriticScore score_mixed titleReviewBarSubItem\")\n",
    "    if check_value is not None:  \n",
    "        meta_score = int(check_value.find('span').text)\n",
    "        results['Meta_Score'] = meta_score\n",
    "    else:\n",
    "        results['Meta_Score'] = 'None'\n",
    "    return(results)\n",
    "rating(movie_index)"
   ]
  },
  {
   "cell_type": "code",
   "execution_count": null,
   "metadata": {},
   "outputs": [],
   "source": [
    "def casts_names(movie_index):\n",
    "    roles = ['Director:','Writers', 'Stars:','Directors:','Writer:']\n",
    "    results = {}\n",
    "    this_move_page = movie_page(index,movie_index)\n",
    "    for role in roles:\n",
    "        check_value = this_move_page.find('h4',string=role)\n",
    "        name_list = []\n",
    "        if check_value is not None:\n",
    "            names = check_value.find_next_siblings('a')\n",
    "            for name in (names[:3]):\n",
    "                name_list.append(name.text)\n",
    "            results[role] = name_list\n",
    "    return(results)\n",
    "\n",
    "casts_names(movie_index)"
   ]
  },
  {
   "cell_type": "code",
   "execution_count": null,
   "metadata": {},
   "outputs": [],
   "source": [
    "##Find Number_User_Review, Number_Critical_Review\n",
    "def review (movie_index):\n",
    "    results = {}\n",
    "    this_move_page = movie_page(index,movie_index)\n",
    "    check_value = this_move_page.find('div', \"titleReviewBarItem titleReviewbarItemBorder\")\n",
    "    if check_value is not None:\n",
    "        review = check_value.find('span', \"subText\")\n",
    "        user = review.find('a').text.split()\n",
    "        number_user_review = int(user[0])\n",
    "        results['User_Review_Number'] = number_user_review\n",
    "        critic = review.find('a', href = \"externalreviews\").text.split()\n",
    "        number_critical_review = int(critic[0])\n",
    "        results['Critical_Review_Number'] = number_critical_review\n",
    "    else:\n",
    "        results['User_Review_Number'] = 'None'\n",
    "        results['Critical_Review_Number'] = 'None'\n",
    "    return(results)"
   ]
  },
  {
   "cell_type": "code",
   "execution_count": null,
   "metadata": {},
   "outputs": [],
   "source": [
    "##Find Meta_rating,  Genera, and Release_Day---->sub_text(Tird part)\n",
    "def mata_rate (movie_index):\n",
    "    results = {}\n",
    "    this_move_page = movie_page(index,movie_index)\n",
    "    check_value = this_move_page.find('div', class_=\"title_wrapper\")\n",
    "    if check_value is not None:\n",
    "        sub_text =check_value.find('div', class_ = \"subtext\").text.split('|')\n",
    "        meta_rating = sub_text[0].strip()\n",
    "        results['Meta_Rating'] = meta_rating\n",
    "\n",
    "    else:\n",
    "        results['Meta_Rating'] = 'None'\n",
    "    \n",
    "    return(results)"
   ]
  }
 ],
 "metadata": {
  "kernelspec": {
   "display_name": "Python 3",
   "language": "python",
   "name": "python3"
  },
  "language_info": {
   "codemirror_mode": {
    "name": "ipython",
    "version": 3
   },
   "file_extension": ".py",
   "mimetype": "text/x-python",
   "name": "python",
   "nbconvert_exporter": "python",
   "pygments_lexer": "ipython3",
   "version": "3.6.9"
  }
 },
 "nbformat": 4,
 "nbformat_minor": 2
}
