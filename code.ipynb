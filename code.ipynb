{
 "cells": [
  {
   "cell_type": "markdown",
   "metadata": {},
   "source": [
    "## Final Project Submission\n",
    "\n",
    "Please fill out:\n",
    "* Student name: Nastaran Nazemian\n",
    "* Student pace: part time\n",
    "* Scheduled project review date/time: ??????????\n",
    "* Instructor name: Eli Thomas\n",
    "* Blog post URL:?????????????\n"
   ]
  },
  {
   "cell_type": "code",
   "execution_count": 18,
   "metadata": {},
   "outputs": [],
   "source": [
    "from bs4 import BeautifulSoup\n",
    "import requests \n",
    "from datetime import datetime\n",
    "from datetime import date\n",
    "import json\n",
    "import time"
   ]
  },
  {
   "cell_type": "code",
   "execution_count": 2,
   "metadata": {},
   "outputs": [],
   "source": [
    "def search_movies_page(index):\n",
    "    html_page = requests.get('https://www.imdb.com/search/title/?title_type=feature&release_date=2019-01-01,2020-01-01&countries=us&start=' + str(index * 50 + 1))\n",
    "    soup = BeautifulSoup(html_page.content, 'html.parser')\n",
    "    movies = soup.find_all('div', \"lister-item-content\")\n",
    "    urls = []\n",
    "    for i in range(0,len(movies)):\n",
    "        movies[i]\n",
    "        movie_url = 'https://www.imdb.com' + movies[i].find('h3', 'lister-item-header').find('a')['href'] \n",
    "#         print(movie_url)\n",
    "        urls.append(movie_url)\n",
    "    return(urls)\n",
    "\n",
    "# url = search_movies_page(0)\n",
    "#url\n"
   ]
  },
  {
   "cell_type": "code",
   "execution_count": 3,
   "metadata": {},
   "outputs": [],
   "source": [
    "def movie_page(url):\n",
    "    movie_page = requests.get(url)\n",
    "    movie = BeautifulSoup(movie_page.content, 'html.parser')\n",
    "    return movie\n",
    "\n",
    "#this_movie_page = movie_page(\"https://www.imdb.com/title/tt8367814/\")\n",
    "#movie_page(url)"
   ]
  },
  {
   "cell_type": "code",
   "execution_count": 4,
   "metadata": {},
   "outputs": [],
   "source": [
    "#def movie_id(index,movie_index)    \n",
    "#     title = {}\n",
    "#     movie_title_id =search_movies_page(index)[movie_index].split('/')\n",
    "#     title_id = movie_title_id[-2]\n",
    "#     title[Title] = title_id \n",
    "#return(title)"
   ]
  },
  {
   "cell_type": "code",
   "execution_count": 5,
   "metadata": {},
   "outputs": [],
   "source": [
    "def movie_id(url):\n",
    "    title = {}\n",
    "    movie_title_id = url.split('/')\n",
    "    title_id = movie_title_id[-2]\n",
    "    title['Title_id'] = title_id\n",
    "    return title\n",
    "#movie_id(url)\n"
   ]
  },
  {
   "cell_type": "code",
   "execution_count": 6,
   "metadata": {},
   "outputs": [],
   "source": [
    "def boxoffice(this_movie_page):\n",
    "    box_office = ['Budget:','Gross USA:','Cumulative Worldwide Gross:','Opening Weekend USA:']\n",
    "    results = {}\n",
    "    #this_movie_page = movie_page(index,movie_index)\n",
    "    for x in box_office:\n",
    "        finance_value = this_movie_page.find('h4', string= x)\n",
    "        if finance_value is not None:\n",
    "            x_money = finance_value.parent.contents[2].replace('$',\"\").replace(',',\"\")\n",
    "            results[x] = x_money\n",
    "        else:\n",
    "            results[x] = 'None'\n",
    "    return results\n",
    "#boxoffice(url)  "
   ]
  },
  {
   "cell_type": "code",
   "execution_count": 7,
   "metadata": {},
   "outputs": [],
   "source": [
    "def movie_info(this_movie_page):\n",
    "    results = {}\n",
    "    #this_movie_page = movie_page(index,movie_index)\n",
    "    title = this_movie_page.find('div', class_=\"title_wrapper\").find('h1', class_=\"\").contents[0].replace('\\xa0','')   \n",
    "    year = this_movie_page.find('div', class_=\"title_wrapper\").find('a').contents[0]  \n",
    "    popularity = this_movie_page.find_all('div', class_ = \"titleReviewBarSubItem\")[-1].find('span', \"subText\").contents[0].strip().split(' ')[0].strip().replace(',','')\n",
    "    results = {'Title':title,'Year': year,'Popularity':popularity}\n",
    "    return results\n",
    "#movie_info(url)"
   ]
  },
  {
   "cell_type": "code",
   "execution_count": 8,
   "metadata": {},
   "outputs": [],
   "source": [
    "def movie_genres(this_movie_page):\n",
    "    #this_movie_page = movie_page(index, movie_index)\n",
    "    genres_out = {}\n",
    "    genres_list = this_movie_page.find('div', class_=\"title_wrapper\").find('div', class_=\"subtext\").text.split(\"|\")\n",
    "    genres = genres_list[2].split()\n",
    "    genres = list(map(lambda genre: genre.replace(',',\"\"),genres))\n",
    "    genres_out['Geres'] = genres \n",
    "    return genres_out\n",
    "#movie_genres(url)"
   ]
  },
  {
   "cell_type": "code",
   "execution_count": 9,
   "metadata": {},
   "outputs": [],
   "source": [
    "def movie_runtime(this_movie_page):\n",
    "    #this_movie_page = movie_page(index,movie_index)\n",
    "    runtime_out = {}\n",
    "    runtime = this_movie_page.find('h4',string=\"Runtime:\").find_next_sibling('time').text.split()\n",
    "    runtime_min = runtime[0]\n",
    "    runtime_out['Runtime_min'] = runtime_min\n",
    "    return runtime_out\n",
    "#movie_runtime(url)\n"
   ]
  },
  {
   "cell_type": "code",
   "execution_count": 10,
   "metadata": {},
   "outputs": [],
   "source": [
    "def movie_release_day(this_movie_page):\n",
    "    #this_movie_page = movie_page(index,movie_index)\n",
    "    release_day = {}\n",
    "    release_day_list = this_movie_page.find('div', class_ = \"subtext\").find('a', title = \"See more release dates\").text.split()\n",
    "    date = \" \".join(release_day_list[0:3])\n",
    "    release_day_format = datetime.strptime(date, '%d %B %Y').strftime(\"%m/%d/%Y\")\n",
    "    release_day['Release_day'] = release_day_format\n",
    "    return release_day\n",
    "#movie_release_day(url)"
   ]
  },
  {
   "cell_type": "code",
   "execution_count": 11,
   "metadata": {},
   "outputs": [],
   "source": [
    "def rating (this_movie_page):\n",
    "    results = {}\n",
    "    #this_movie_page = movie_page(index, movie_index)\n",
    "    check_rating = this_movie_page.find('div', class_=\"ratingValue\")\n",
    "    if check_rating is not None:\n",
    "        rating = check_rating.find('strong')['title'].split()\n",
    "        imdb_rate = rating[0]\n",
    "        rating_count = rating[3].replace(',','')\n",
    "        results['IMDB_Rate'] = imdb_rate\n",
    "        results['Rating_count'] = rating_count\n",
    "    else:\n",
    "        results['IMDB_Rate'] = 'None'\n",
    "        results['Rating_count'] = 'None'\n",
    "        \n",
    "    check_value = this_movie_page.find('div',\"metacriticScore score_mixed titleReviewBarSubItem\")\n",
    "    if check_value is not None:  \n",
    "        meta_score = check_value.find('span').text\n",
    "        results['Meta_Score'] = meta_score\n",
    "    else:\n",
    "        results['Meta_Score'] = 'None'\n",
    "    return results\n",
    "#rating(url)"
   ]
  },
  {
   "cell_type": "code",
   "execution_count": 12,
   "metadata": {},
   "outputs": [],
   "source": [
    "def casts_names(this_movie_page):\n",
    "    roles = ['Director','Writer', 'Star']\n",
    "    results = {}\n",
    "\n",
    "            #this_movie_page = movie_page(index,movie_index)\n",
    "    for role in roles:\n",
    "        cast_role = (role+':')\n",
    "\n",
    "        name_list = []\n",
    "        check_role = this_movie_page.find('h4',string=role+':')\n",
    "        if (check_role is None):\n",
    "            check_role = this_movie_page.find('h4',string=role+'s:')\n",
    "        names = check_role.find_next_siblings('a')\n",
    "        for name in (names[:3]):\n",
    "            name_list.append(name.text)\n",
    "        results[role] = name_list\n",
    "    return results\n",
    "\n",
    "# casts_names(this_movie_page)"
   ]
  },
  {
   "cell_type": "code",
   "execution_count": 13,
   "metadata": {},
   "outputs": [],
   "source": [
    "##Find Number_User_Review, Number_Critical_Review\n",
    "def review (this_movie_page):\n",
    "    results = {}\n",
    "    #this_movie_page = movie_page(index,movie_index)\n",
    "    check_value = this_movie_page.find('div', \"titleReviewBarItem titleReviewbarItemBorder\")\n",
    "    if check_value is not None:\n",
    "        review = check_value.find('span', \"subText\")\n",
    "        user = review.find('a').text.split()\n",
    "        number_user_review = user[0].replace(',','')\n",
    "        results['User_Review_Number'] = number_user_review\n",
    "        critic = review.find('a', href = \"externalreviews\").text.split()\n",
    "        number_critical_review = critic[0]\n",
    "        results['Critical_Review_Number'] = number_critical_review\n",
    "    else:\n",
    "        results['User_Review_Number'] = 'None'\n",
    "        results['Critical_Review_Number'] = 'None'\n",
    "    return(results)\n",
    "#review(url)"
   ]
  },
  {
   "cell_type": "code",
   "execution_count": 14,
   "metadata": {},
   "outputs": [],
   "source": [
    "##Find Meta_rating,  Genera, and Release_Day---->sub_text(Tird part)\n",
    "def meta_rate (this_movie_page):\n",
    "    results = {}\n",
    "    #this_movie_page = movie_page(index,movie_index)\n",
    "    check_value = this_movie_page.find('div', class_=\"title_wrapper\")\n",
    "    if check_value is not None:\n",
    "        sub_text =check_value.find('div', class_ = \"subtext\").text.split('|')\n",
    "        meta_rating = sub_text[0].strip()\n",
    "        results['Meta_Rating'] = meta_rating\n",
    "\n",
    "    else:\n",
    "        results['Meta_Rating'] = 'None'\n",
    "    \n",
    "    return(results)\n",
    "\n",
    "#meta_rate(url)"
   ]
  },
  {
   "cell_type": "code",
   "execution_count": 15,
   "metadata": {},
   "outputs": [],
   "source": [
    "# this_movie_page = movie_page(url)\n",
    "def one_movie_info(url):\n",
    "    this_movie_page = movie_page(url)\n",
    "    movie_data = {}\n",
    "    movie_function_list = [movie_id(url), \n",
    "                           boxoffice(this_movie_page),\n",
    "                           movie_info(this_movie_page),\n",
    "                           movie_genres(this_movie_page),\n",
    "                           movie_runtime(this_movie_page),\n",
    "                           movie_release_day(this_movie_page),\n",
    "                           rating (this_movie_page),\n",
    "                           casts_names(this_movie_page),\n",
    "                           review (this_movie_page),\n",
    "                           meta_rate (this_movie_page)]\n",
    "    for function in movie_function_list:\n",
    "        movie_data.update(function)\n",
    "        \n",
    "        \n",
    "#     movie_data.update(movie_id(this_movie_page))\n",
    "    \n",
    "    return(movie_data)\n",
    "# len(one_movie_info(url))  \n"
   ]
  },
  {
   "cell_type": "code",
   "execution_count": 16,
   "metadata": {},
   "outputs": [],
   "source": [
    "# urls = search_movies_page(0)\n",
    "# #print(len(urls))\n",
    "# movies_data = []\n",
    "# for url in urls:\n",
    "# #     this_movie_page = movie_page(url)\n",
    "#     one_row = one_movie_info(url)\n",
    "#     movies_data.append(one_row)\n",
    "#     #print(len(movies_data))\n",
    "# print(len(movies_data))"
   ]
  },
  {
   "cell_type": "code",
   "execution_count": 17,
   "metadata": {},
   "outputs": [
    {
     "name": "stdout",
     "output_type": "stream",
     "text": [
      "https://www.imdb.com/title/tt7984766/\n",
      "https://www.imdb.com/title/tt0437086/\n",
      "https://www.imdb.com/title/tt1489887/\n",
      "https://www.imdb.com/title/tt6450804/\n",
      "https://www.imdb.com/title/tt4332232/\n",
      "https://www.imdb.com/title/tt5814534/\n",
      "https://www.imdb.com/title/tt8305806/\n",
      "https://www.imdb.com/title/tt6513120/\n",
      "https://www.imdb.com/title/tt7879442/\n",
      "https://www.imdb.com/title/tt8663516/\n",
      "https://www.imdb.com/title/tt2935510/\n",
      "https://www.imdb.com/title/tt7798634/\n",
      "https://www.imdb.com/title/tt3224458/\n",
      "https://www.imdb.com/title/tt9071322/\n",
      "https://www.imdb.com/title/tt7456310/\n",
      "https://www.imdb.com/title/tt4364194/\n",
      "https://www.imdb.com/title/tt6521876/\n",
      "https://www.imdb.com/title/tt0448115/\n",
      "https://www.imdb.com/title/tt5073642/\n",
      "https://www.imdb.com/title/tt9243946/\n",
      "https://www.imdb.com/title/tt8299768/\n",
      "https://www.imdb.com/title/tt6857112/\n",
      "https://www.imdb.com/title/tt3741700/\n",
      "https://www.imdb.com/title/tt2139881/\n",
      "https://www.imdb.com/title/tt2283336/\n",
      "https://www.imdb.com/title/tt7958736/\n",
      "https://www.imdb.com/title/tt8688634/\n",
      "https://www.imdb.com/title/tt5116302/\n",
      "https://www.imdb.com/title/tt1488606/\n",
      "https://www.imdb.com/title/tt8096832/\n",
      "https://www.imdb.com/title/tt4777008/\n",
      "https://www.imdb.com/title/tt1025100/\n",
      "https://www.imdb.com/title/tt5822564/\n",
      "https://www.imdb.com/title/tt6324278/\n",
      "https://www.imdb.com/title/tt0385887/\n",
      "https://www.imdb.com/title/tt6472976/\n",
      "https://www.imdb.com/title/tt8364368/\n",
      "https://www.imdb.com/title/tt6398184/\n",
      "https://www.imdb.com/title/tt2481498/\n",
      "https://www.imdb.com/title/tt6823368/\n",
      "https://www.imdb.com/title/tt3513498/\n",
      "https://www.imdb.com/title/tt7139936/\n",
      "https://www.imdb.com/title/tt1618434/\n",
      "https://www.imdb.com/title/tt8485772/\n",
      "https://www.imdb.com/title/tt8372298/\n"
     ]
    },
    {
     "ename": "KeyboardInterrupt",
     "evalue": "",
     "output_type": "error",
     "traceback": [
      "\u001b[1;31m---------------------------------------------------------------------------\u001b[0m",
      "\u001b[1;31mKeyboardInterrupt\u001b[0m                         Traceback (most recent call last)",
      "\u001b[1;32m<ipython-input-17-66e49e6c6a75>\u001b[0m in \u001b[0;36m<module>\u001b[1;34m\u001b[0m\n\u001b[0;32m      5\u001b[0m     \u001b[1;32mfor\u001b[0m \u001b[0murl\u001b[0m \u001b[1;32min\u001b[0m \u001b[0murls\u001b[0m\u001b[1;33m:\u001b[0m\u001b[1;33m\u001b[0m\u001b[1;33m\u001b[0m\u001b[0m\n\u001b[0;32m      6\u001b[0m         \u001b[0mprint\u001b[0m\u001b[1;33m(\u001b[0m\u001b[0murl\u001b[0m\u001b[1;33m)\u001b[0m\u001b[1;33m\u001b[0m\u001b[1;33m\u001b[0m\u001b[0m\n\u001b[1;32m----> 7\u001b[1;33m         \u001b[0mone_row\u001b[0m \u001b[1;33m=\u001b[0m \u001b[0mone_movie_info\u001b[0m\u001b[1;33m(\u001b[0m\u001b[0murl\u001b[0m\u001b[1;33m)\u001b[0m\u001b[1;33m\u001b[0m\u001b[1;33m\u001b[0m\u001b[0m\n\u001b[0m\u001b[0;32m      8\u001b[0m         \u001b[0mmovies_data\u001b[0m\u001b[1;33m.\u001b[0m\u001b[0mappend\u001b[0m\u001b[1;33m(\u001b[0m\u001b[0mone_row\u001b[0m\u001b[1;33m)\u001b[0m\u001b[1;33m\u001b[0m\u001b[1;33m\u001b[0m\u001b[0m\n\u001b[0;32m      9\u001b[0m \u001b[1;31m#         print(len(movies_data))\u001b[0m\u001b[1;33m\u001b[0m\u001b[1;33m\u001b[0m\u001b[1;33m\u001b[0m\u001b[0m\n",
      "\u001b[1;32m<ipython-input-15-6066246e2344>\u001b[0m in \u001b[0;36mone_movie_info\u001b[1;34m(url)\u001b[0m\n\u001b[0;32m      9\u001b[0m                            \u001b[0mmovie_runtime\u001b[0m\u001b[1;33m(\u001b[0m\u001b[0mthis_movie_page\u001b[0m\u001b[1;33m)\u001b[0m\u001b[1;33m,\u001b[0m\u001b[1;33m\u001b[0m\u001b[1;33m\u001b[0m\u001b[0m\n\u001b[0;32m     10\u001b[0m                            \u001b[0mmovie_release_day\u001b[0m\u001b[1;33m(\u001b[0m\u001b[0mthis_movie_page\u001b[0m\u001b[1;33m)\u001b[0m\u001b[1;33m,\u001b[0m\u001b[1;33m\u001b[0m\u001b[1;33m\u001b[0m\u001b[0m\n\u001b[1;32m---> 11\u001b[1;33m                            \u001b[0mrating\u001b[0m \u001b[1;33m(\u001b[0m\u001b[0mthis_movie_page\u001b[0m\u001b[1;33m)\u001b[0m\u001b[1;33m,\u001b[0m\u001b[1;33m\u001b[0m\u001b[1;33m\u001b[0m\u001b[0m\n\u001b[0m\u001b[0;32m     12\u001b[0m                            \u001b[0mcasts_names\u001b[0m\u001b[1;33m(\u001b[0m\u001b[0mthis_movie_page\u001b[0m\u001b[1;33m)\u001b[0m\u001b[1;33m,\u001b[0m\u001b[1;33m\u001b[0m\u001b[1;33m\u001b[0m\u001b[0m\n\u001b[0;32m     13\u001b[0m                            \u001b[0mreview\u001b[0m \u001b[1;33m(\u001b[0m\u001b[0mthis_movie_page\u001b[0m\u001b[1;33m)\u001b[0m\u001b[1;33m,\u001b[0m\u001b[1;33m\u001b[0m\u001b[1;33m\u001b[0m\u001b[0m\n",
      "\u001b[1;32m<ipython-input-11-e31c0bfc07de>\u001b[0m in \u001b[0;36mrating\u001b[1;34m(this_movie_page)\u001b[0m\n\u001b[0;32m     13\u001b[0m         \u001b[0mresults\u001b[0m\u001b[1;33m[\u001b[0m\u001b[1;34m'Rating_count'\u001b[0m\u001b[1;33m]\u001b[0m \u001b[1;33m=\u001b[0m \u001b[1;34m'None'\u001b[0m\u001b[1;33m\u001b[0m\u001b[1;33m\u001b[0m\u001b[0m\n\u001b[0;32m     14\u001b[0m \u001b[1;33m\u001b[0m\u001b[0m\n\u001b[1;32m---> 15\u001b[1;33m     \u001b[0mcheck_value\u001b[0m \u001b[1;33m=\u001b[0m \u001b[0mthis_movie_page\u001b[0m\u001b[1;33m.\u001b[0m\u001b[0mfind\u001b[0m\u001b[1;33m(\u001b[0m\u001b[1;34m'div'\u001b[0m\u001b[1;33m,\u001b[0m\u001b[1;34m\"metacriticScore score_mixed titleReviewBarSubItem\"\u001b[0m\u001b[1;33m)\u001b[0m\u001b[1;33m\u001b[0m\u001b[1;33m\u001b[0m\u001b[0m\n\u001b[0m\u001b[0;32m     16\u001b[0m     \u001b[1;32mif\u001b[0m \u001b[0mcheck_value\u001b[0m \u001b[1;32mis\u001b[0m \u001b[1;32mnot\u001b[0m \u001b[1;32mNone\u001b[0m\u001b[1;33m:\u001b[0m\u001b[1;33m\u001b[0m\u001b[1;33m\u001b[0m\u001b[0m\n\u001b[0;32m     17\u001b[0m         \u001b[0mmeta_score\u001b[0m \u001b[1;33m=\u001b[0m \u001b[0mcheck_value\u001b[0m\u001b[1;33m.\u001b[0m\u001b[0mfind\u001b[0m\u001b[1;33m(\u001b[0m\u001b[1;34m'span'\u001b[0m\u001b[1;33m)\u001b[0m\u001b[1;33m.\u001b[0m\u001b[0mtext\u001b[0m\u001b[1;33m\u001b[0m\u001b[1;33m\u001b[0m\u001b[0m\n",
      "\u001b[1;32m~\\Anaconda3\\envs\\learn-env\\lib\\site-packages\\bs4\\element.py\u001b[0m in \u001b[0;36mfind\u001b[1;34m(self, name, attrs, recursive, text, **kwargs)\u001b[0m\n\u001b[0;32m   1256\u001b[0m         criteria.\"\"\"\n\u001b[0;32m   1257\u001b[0m         \u001b[0mr\u001b[0m \u001b[1;33m=\u001b[0m \u001b[1;32mNone\u001b[0m\u001b[1;33m\u001b[0m\u001b[1;33m\u001b[0m\u001b[0m\n\u001b[1;32m-> 1258\u001b[1;33m         \u001b[0ml\u001b[0m \u001b[1;33m=\u001b[0m \u001b[0mself\u001b[0m\u001b[1;33m.\u001b[0m\u001b[0mfind_all\u001b[0m\u001b[1;33m(\u001b[0m\u001b[0mname\u001b[0m\u001b[1;33m,\u001b[0m \u001b[0mattrs\u001b[0m\u001b[1;33m,\u001b[0m \u001b[0mrecursive\u001b[0m\u001b[1;33m,\u001b[0m \u001b[0mtext\u001b[0m\u001b[1;33m,\u001b[0m \u001b[1;36m1\u001b[0m\u001b[1;33m,\u001b[0m \u001b[1;33m**\u001b[0m\u001b[0mkwargs\u001b[0m\u001b[1;33m)\u001b[0m\u001b[1;33m\u001b[0m\u001b[1;33m\u001b[0m\u001b[0m\n\u001b[0m\u001b[0;32m   1259\u001b[0m         \u001b[1;32mif\u001b[0m \u001b[0ml\u001b[0m\u001b[1;33m:\u001b[0m\u001b[1;33m\u001b[0m\u001b[1;33m\u001b[0m\u001b[0m\n\u001b[0;32m   1260\u001b[0m             \u001b[0mr\u001b[0m \u001b[1;33m=\u001b[0m \u001b[0ml\u001b[0m\u001b[1;33m[\u001b[0m\u001b[1;36m0\u001b[0m\u001b[1;33m]\u001b[0m\u001b[1;33m\u001b[0m\u001b[1;33m\u001b[0m\u001b[0m\n",
      "\u001b[1;32m~\\Anaconda3\\envs\\learn-env\\lib\\site-packages\\bs4\\element.py\u001b[0m in \u001b[0;36mfind_all\u001b[1;34m(self, name, attrs, recursive, text, limit, **kwargs)\u001b[0m\n\u001b[0;32m   1277\u001b[0m         \u001b[1;32mif\u001b[0m \u001b[1;32mnot\u001b[0m \u001b[0mrecursive\u001b[0m\u001b[1;33m:\u001b[0m\u001b[1;33m\u001b[0m\u001b[1;33m\u001b[0m\u001b[0m\n\u001b[0;32m   1278\u001b[0m             \u001b[0mgenerator\u001b[0m \u001b[1;33m=\u001b[0m \u001b[0mself\u001b[0m\u001b[1;33m.\u001b[0m\u001b[0mchildren\u001b[0m\u001b[1;33m\u001b[0m\u001b[1;33m\u001b[0m\u001b[0m\n\u001b[1;32m-> 1279\u001b[1;33m         \u001b[1;32mreturn\u001b[0m \u001b[0mself\u001b[0m\u001b[1;33m.\u001b[0m\u001b[0m_find_all\u001b[0m\u001b[1;33m(\u001b[0m\u001b[0mname\u001b[0m\u001b[1;33m,\u001b[0m \u001b[0mattrs\u001b[0m\u001b[1;33m,\u001b[0m \u001b[0mtext\u001b[0m\u001b[1;33m,\u001b[0m \u001b[0mlimit\u001b[0m\u001b[1;33m,\u001b[0m \u001b[0mgenerator\u001b[0m\u001b[1;33m,\u001b[0m \u001b[1;33m**\u001b[0m\u001b[0mkwargs\u001b[0m\u001b[1;33m)\u001b[0m\u001b[1;33m\u001b[0m\u001b[1;33m\u001b[0m\u001b[0m\n\u001b[0m\u001b[0;32m   1280\u001b[0m     \u001b[0mfindAll\u001b[0m \u001b[1;33m=\u001b[0m \u001b[0mfind_all\u001b[0m       \u001b[1;31m# BS3\u001b[0m\u001b[1;33m\u001b[0m\u001b[1;33m\u001b[0m\u001b[0m\n\u001b[0;32m   1281\u001b[0m     \u001b[0mfindChildren\u001b[0m \u001b[1;33m=\u001b[0m \u001b[0mfind_all\u001b[0m  \u001b[1;31m# BS2\u001b[0m\u001b[1;33m\u001b[0m\u001b[1;33m\u001b[0m\u001b[0m\n",
      "\u001b[1;32m~\\Anaconda3\\envs\\learn-env\\lib\\site-packages\\bs4\\element.py\u001b[0m in \u001b[0;36m_find_all\u001b[1;34m(self, name, attrs, text, limit, generator, **kwargs)\u001b[0m\n\u001b[0;32m    539\u001b[0m                 \u001b[1;32mbreak\u001b[0m\u001b[1;33m\u001b[0m\u001b[1;33m\u001b[0m\u001b[0m\n\u001b[0;32m    540\u001b[0m             \u001b[1;32mif\u001b[0m \u001b[0mi\u001b[0m\u001b[1;33m:\u001b[0m\u001b[1;33m\u001b[0m\u001b[1;33m\u001b[0m\u001b[0m\n\u001b[1;32m--> 541\u001b[1;33m                 \u001b[0mfound\u001b[0m \u001b[1;33m=\u001b[0m \u001b[0mstrainer\u001b[0m\u001b[1;33m.\u001b[0m\u001b[0msearch\u001b[0m\u001b[1;33m(\u001b[0m\u001b[0mi\u001b[0m\u001b[1;33m)\u001b[0m\u001b[1;33m\u001b[0m\u001b[1;33m\u001b[0m\u001b[0m\n\u001b[0m\u001b[0;32m    542\u001b[0m                 \u001b[1;32mif\u001b[0m \u001b[0mfound\u001b[0m\u001b[1;33m:\u001b[0m\u001b[1;33m\u001b[0m\u001b[1;33m\u001b[0m\u001b[0m\n\u001b[0;32m    543\u001b[0m                     \u001b[0mresults\u001b[0m\u001b[1;33m.\u001b[0m\u001b[0mappend\u001b[0m\u001b[1;33m(\u001b[0m\u001b[0mfound\u001b[0m\u001b[1;33m)\u001b[0m\u001b[1;33m\u001b[0m\u001b[1;33m\u001b[0m\u001b[0m\n",
      "\u001b[1;32m~\\Anaconda3\\envs\\learn-env\\lib\\site-packages\\bs4\\element.py\u001b[0m in \u001b[0;36msearch\u001b[1;34m(self, markup)\u001b[0m\n\u001b[0;32m   1473\u001b[0m         \u001b[1;32melif\u001b[0m \u001b[0misinstance\u001b[0m\u001b[1;33m(\u001b[0m\u001b[0mmarkup\u001b[0m\u001b[1;33m,\u001b[0m \u001b[0mTag\u001b[0m\u001b[1;33m)\u001b[0m\u001b[1;33m:\u001b[0m\u001b[1;33m\u001b[0m\u001b[1;33m\u001b[0m\u001b[0m\n\u001b[0;32m   1474\u001b[0m             \u001b[1;32mif\u001b[0m \u001b[1;32mnot\u001b[0m \u001b[0mself\u001b[0m\u001b[1;33m.\u001b[0m\u001b[0mtext\u001b[0m \u001b[1;32mor\u001b[0m \u001b[0mself\u001b[0m\u001b[1;33m.\u001b[0m\u001b[0mname\u001b[0m \u001b[1;32mor\u001b[0m \u001b[0mself\u001b[0m\u001b[1;33m.\u001b[0m\u001b[0mattrs\u001b[0m\u001b[1;33m:\u001b[0m\u001b[1;33m\u001b[0m\u001b[1;33m\u001b[0m\u001b[0m\n\u001b[1;32m-> 1475\u001b[1;33m                 \u001b[0mfound\u001b[0m \u001b[1;33m=\u001b[0m \u001b[0mself\u001b[0m\u001b[1;33m.\u001b[0m\u001b[0msearch_tag\u001b[0m\u001b[1;33m(\u001b[0m\u001b[0mmarkup\u001b[0m\u001b[1;33m)\u001b[0m\u001b[1;33m\u001b[0m\u001b[1;33m\u001b[0m\u001b[0m\n\u001b[0m\u001b[0;32m   1476\u001b[0m         \u001b[1;31m# If it's text, make sure the text matches.\u001b[0m\u001b[1;33m\u001b[0m\u001b[1;33m\u001b[0m\u001b[1;33m\u001b[0m\u001b[0m\n\u001b[0;32m   1477\u001b[0m         \u001b[1;32melif\u001b[0m \u001b[0misinstance\u001b[0m\u001b[1;33m(\u001b[0m\u001b[0mmarkup\u001b[0m\u001b[1;33m,\u001b[0m \u001b[0mNavigableString\u001b[0m\u001b[1;33m)\u001b[0m \u001b[1;32mor\u001b[0m\u001b[0;31m \u001b[0m\u001b[0;31m\\\u001b[0m\u001b[1;33m\u001b[0m\u001b[1;33m\u001b[0m\u001b[0m\n",
      "\u001b[1;32m~\\Anaconda3\\envs\\learn-env\\lib\\site-packages\\bs4\\element.py\u001b[0m in \u001b[0;36msearch_tag\u001b[1;34m(self, markup_name, markup_attrs)\u001b[0m\n\u001b[0;32m   1429\u001b[0m         if ((not self.name)\n\u001b[0;32m   1430\u001b[0m             \u001b[1;32mor\u001b[0m \u001b[0mcall_function_with_tag_data\u001b[0m\u001b[1;33m\u001b[0m\u001b[1;33m\u001b[0m\u001b[0m\n\u001b[1;32m-> 1431\u001b[1;33m             \u001b[1;32mor\u001b[0m \u001b[1;33m(\u001b[0m\u001b[0mmarkup\u001b[0m \u001b[1;32mand\u001b[0m \u001b[0mself\u001b[0m\u001b[1;33m.\u001b[0m\u001b[0m_matches\u001b[0m\u001b[1;33m(\u001b[0m\u001b[0mmarkup\u001b[0m\u001b[1;33m,\u001b[0m \u001b[0mself\u001b[0m\u001b[1;33m.\u001b[0m\u001b[0mname\u001b[0m\u001b[1;33m)\u001b[0m\u001b[1;33m)\u001b[0m\u001b[1;33m\u001b[0m\u001b[1;33m\u001b[0m\u001b[0m\n\u001b[0m\u001b[0;32m   1432\u001b[0m             or (not markup and self._matches(markup_name, self.name))):\n\u001b[0;32m   1433\u001b[0m             \u001b[1;32mif\u001b[0m \u001b[0mcall_function_with_tag_data\u001b[0m\u001b[1;33m:\u001b[0m\u001b[1;33m\u001b[0m\u001b[1;33m\u001b[0m\u001b[0m\n",
      "\u001b[1;32m~\\Anaconda3\\envs\\learn-env\\lib\\site-packages\\bs4\\element.py\u001b[0m in \u001b[0;36m_matches\u001b[1;34m(self, markup, match_against, already_tried)\u001b[0m\n\u001b[0;32m   1514\u001b[0m \u001b[1;33m\u001b[0m\u001b[0m\n\u001b[0;32m   1515\u001b[0m         \u001b[1;31m# Ensure that `markup` is either a Unicode string, or None.\u001b[0m\u001b[1;33m\u001b[0m\u001b[1;33m\u001b[0m\u001b[1;33m\u001b[0m\u001b[0m\n\u001b[1;32m-> 1516\u001b[1;33m         \u001b[0mmarkup\u001b[0m \u001b[1;33m=\u001b[0m \u001b[0mself\u001b[0m\u001b[1;33m.\u001b[0m\u001b[0m_normalize_search_value\u001b[0m\u001b[1;33m(\u001b[0m\u001b[0mmarkup\u001b[0m\u001b[1;33m)\u001b[0m\u001b[1;33m\u001b[0m\u001b[1;33m\u001b[0m\u001b[0m\n\u001b[0m\u001b[0;32m   1517\u001b[0m \u001b[1;33m\u001b[0m\u001b[0m\n\u001b[0;32m   1518\u001b[0m         \u001b[1;32mif\u001b[0m \u001b[0mmarkup\u001b[0m \u001b[1;32mis\u001b[0m \u001b[1;32mNone\u001b[0m\u001b[1;33m:\u001b[0m\u001b[1;33m\u001b[0m\u001b[1;33m\u001b[0m\u001b[0m\n",
      "\u001b[1;32m~\\Anaconda3\\envs\\learn-env\\lib\\site-packages\\bs4\\element.py\u001b[0m in \u001b[0;36m_normalize_search_value\u001b[1;34m(self, value)\u001b[0m\n\u001b[0;32m   1381\u001b[0m         \u001b[0mself\u001b[0m\u001b[1;33m.\u001b[0m\u001b[0mtext\u001b[0m \u001b[1;33m=\u001b[0m \u001b[0mself\u001b[0m\u001b[1;33m.\u001b[0m\u001b[0m_normalize_search_value\u001b[0m\u001b[1;33m(\u001b[0m\u001b[0mtext\u001b[0m\u001b[1;33m)\u001b[0m\u001b[1;33m\u001b[0m\u001b[1;33m\u001b[0m\u001b[0m\n\u001b[0;32m   1382\u001b[0m \u001b[1;33m\u001b[0m\u001b[0m\n\u001b[1;32m-> 1383\u001b[1;33m     \u001b[1;32mdef\u001b[0m \u001b[0m_normalize_search_value\u001b[0m\u001b[1;33m(\u001b[0m\u001b[0mself\u001b[0m\u001b[1;33m,\u001b[0m \u001b[0mvalue\u001b[0m\u001b[1;33m)\u001b[0m\u001b[1;33m:\u001b[0m\u001b[1;33m\u001b[0m\u001b[1;33m\u001b[0m\u001b[0m\n\u001b[0m\u001b[0;32m   1384\u001b[0m         \u001b[1;31m# Leave it alone if it's a Unicode string, a callable, a\u001b[0m\u001b[1;33m\u001b[0m\u001b[1;33m\u001b[0m\u001b[1;33m\u001b[0m\u001b[0m\n\u001b[0;32m   1385\u001b[0m         \u001b[1;31m# regular expression, a boolean, or None.\u001b[0m\u001b[1;33m\u001b[0m\u001b[1;33m\u001b[0m\u001b[1;33m\u001b[0m\u001b[0m\n",
      "\u001b[1;31mKeyboardInterrupt\u001b[0m: "
     ]
    }
   ],
   "source": [
    "movies_data = []\n",
    "for index in range (0,1):\n",
    "    urls = search_movies_page(index)\n",
    "#     print(len(urls))\n",
    "    for url in urls:\n",
    "        print(url)\n",
    "#        time.sleep(1)\n",
    "        one_row = one_movie_info(url)\n",
    "        movies_data.append(one_row)\n",
    "#         print(len(movies_data))\n",
    "print('end', len(movies_data))\n",
    "with open('data.txt', 'w') as outfile:\n",
    "    json.dump(movies_data, outfile)"
   ]
  },
  {
   "cell_type": "code",
   "execution_count": null,
   "metadata": {},
   "outputs": [],
   "source": [
    "import re\n",
    "import numpy as np\n",
    "import pandas as pd\n",
    "import time\n",
    "import seaborn as sns\n",
    "import matplotlib.pyplot as plt\n",
    "%matplotlib inline"
   ]
  },
  {
   "cell_type": "code",
   "execution_count": null,
   "metadata": {},
   "outputs": [],
   "source": [
    "df = pd.DataFrame(movies_data)\n",
    "df.head()\n"
   ]
  },
  {
   "cell_type": "code",
   "execution_count": null,
   "metadata": {},
   "outputs": [],
   "source": [
    "df.describe()"
   ]
  },
  {
   "cell_type": "code",
   "execution_count": null,
   "metadata": {},
   "outputs": [],
   "source": [
    "df.info()\n",
    "df.shape\n"
   ]
  },
  {
   "cell_type": "code",
   "execution_count": null,
   "metadata": {},
   "outputs": [],
   "source": []
  }
 ],
 "metadata": {
  "kernelspec": {
   "display_name": "Python 3",
   "language": "python",
   "name": "python3"
  },
  "language_info": {
   "codemirror_mode": {
    "name": "ipython",
    "version": 3
   },
   "file_extension": ".py",
   "mimetype": "text/x-python",
   "name": "python",
   "nbconvert_exporter": "python",
   "pygments_lexer": "ipython3",
   "version": "3.6.9"
  }
 },
 "nbformat": 4,
 "nbformat_minor": 2
}
